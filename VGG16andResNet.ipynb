{
  "cells": [
    {
      "cell_type": "code",
      "execution_count": null,
      "metadata": {
        "colab": {
          "base_uri": "https://localhost:8080/"
        },
        "id": "rI9LusjYIEP4",
        "outputId": "93ad2e6c-5279-48c8-9448-321c55ea39a5"
      },
      "outputs": [
        {
          "output_type": "stream",
          "name": "stdout",
          "text": [
            "Mounted at /content/drive\n"
          ]
        }
      ],
      "source": [
        "# подключаем личный диск к блокноту\n",
        "from google.colab import drive\n",
        "drive.mount('/content/drive')"
      ]
    },
    {
      "cell_type": "code",
      "execution_count": null,
      "metadata": {
        "colab": {
          "base_uri": "https://localhost:8080/"
        },
        "id": "WkEJLzdqIHLY",
        "outputId": "f5b6da8d-112d-48a5-8916-fe73cc97b0a4"
      },
      "outputs": [
        {
          "output_type": "execute_result",
          "data": {
            "text/plain": [
              "['Tuberculosis', 'Pneumonia', 'Cancer']"
            ]
          },
          "metadata": {},
          "execution_count": 4
        }
      ],
      "source": [
        "import os \n",
        "# назначем корневые пути до исходных данных\n",
        "path=\"/content/drive/MyDrive/source/DICOM\"\n",
        "inPath=os.listdir(\"/content/drive/MyDrive/source/DICOM\")\n",
        "inPath"
      ]
    },
    {
      "cell_type": "code",
      "execution_count": null,
      "metadata": {
        "colab": {
          "base_uri": "https://localhost:8080/"
        },
        "id": "epmV0wmKIV61",
        "outputId": "55b0f952-2b97-49e4-d3d5-e5cf7866e385"
      },
      "outputs": [
        {
          "output_type": "stream",
          "name": "stdout",
          "text": [
            "/content/drive/MyDrive/source/DICOM/Pneumonia/Пневмония /content/drive/MyDrive/source/DICOM/Tuberculosis/Туберкулез /content/drive/MyDrive/source/DICOM/Cancer/0\n"
          ]
        }
      ],
      "source": [
        "pneum_path=path+\"/Pneumonia/Пневмония\"\n",
        "tub_path=path+\"/Tuberculosis/Туберкулез\"\n",
        "can_path=path+\"/Cancer/0\"\n",
        "print(pneum_path,\n",
        "tub_path,\n",
        "can_path)"
      ]
    },
    {
      "cell_type": "code",
      "execution_count": null,
      "metadata": {
        "id": "vPuqwTVrIXwO"
      },
      "outputs": [],
      "source": [
        "arrPneumPath=os.listdir(pneum_path)\n",
        "arrTubPath=os.listdir(tub_path)\n",
        "arrCanPath=os.listdir(can_path)"
      ]
    },
    {
      "cell_type": "code",
      "execution_count": null,
      "metadata": {
        "id": "1uNhtSFLIZX8"
      },
      "outputs": [],
      "source": [
        "# функция вычисления путей до конктреного слоя кт\n",
        "def addPath(path, arrPath):\n",
        "    arr=[]\n",
        "    for i in range(0, len(arrPath)):\n",
        "        inDirectory=os.listdir(path+\"/\"+arrPath[i])\n",
        "        new_path=path+\"/\"+arrPath[i]\n",
        "        for j in range(0, len(inDirectory)):\n",
        "            inPostDirectory=os.listdir(new_path+\"/\"+inDirectory[j]+\"/\")\n",
        "            for k in range(0, len(inPostDirectory)):\n",
        "                end_pneum_path=new_path+\"/\"+inDirectory[j]+\"/\"+inPostDirectory[k]\n",
        "                inLastDir=os.listdir(end_pneum_path)\n",
        "                for m in range(0, len(inLastDir)):\n",
        "                    endDir=end_pneum_path+\"/\"+inLastDir[m]\n",
        "                    arr.append(endDir)\n",
        "    return arr\n",
        "arrPneum=addPath(pneum_path, arrPneumPath)\n",
        "arrTub=addPath(tub_path, arrTubPath)\n",
        "arrCan=addPath(can_path, arrCanPath)"
      ]
    },
    {
      "cell_type": "code",
      "execution_count": null,
      "metadata": {
        "colab": {
          "base_uri": "https://localhost:8080/"
        },
        "id": "wvDaaZyFIbSy",
        "outputId": "e9c15876-288e-4ced-8f08-ddf2298050b8"
      },
      "outputs": [
        {
          "output_type": "stream",
          "name": "stdout",
          "text": [
            "lenPneum:  2100 \n",
            "lenTub:  2515 \n",
            "lenCan:  1558\n"
          ]
        }
      ],
      "source": [
        "print(\"lenPneum: \", len(arrPneum), \"\\nlenTub: \", len(arrTub), \"\\nlenCan: \", len(arrCan))"
      ]
    },
    {
      "cell_type": "code",
      "execution_count": null,
      "metadata": {
        "colab": {
          "base_uri": "https://localhost:8080/"
        },
        "id": "XUAKeXjmIdUu",
        "outputId": "019d0854-9ddc-4fc7-a439-75e15203908b"
      },
      "outputs": [
        {
          "output_type": "stream",
          "name": "stdout",
          "text": [
            "Collecting pydicom\n",
            "  Downloading pydicom-2.3.0-py3-none-any.whl (2.0 MB)\n",
            "\u001b[K     |████████████████████████████████| 2.0 MB 5.5 MB/s \n",
            "\u001b[?25hInstalling collected packages: pydicom\n",
            "Successfully installed pydicom-2.3.0\n",
            "Requirement already satisfied: opencv-python in /usr/local/lib/python3.7/dist-packages (4.1.2.30)\n",
            "Requirement already satisfied: numpy>=1.14.5 in /usr/local/lib/python3.7/dist-packages (from opencv-python) (1.21.6)\n",
            "Requirement already satisfied: Pillow in /usr/local/lib/python3.7/dist-packages (7.1.2)\n",
            "Requirement already satisfied: numpy in /usr/local/lib/python3.7/dist-packages (1.21.6)\n",
            "Requirement already satisfied: scipy in /usr/local/lib/python3.7/dist-packages (1.4.1)\n",
            "Requirement already satisfied: scikit-learn in /usr/local/lib/python3.7/dist-packages (1.0.2)\n",
            "Requirement already satisfied: joblib>=0.11 in /usr/local/lib/python3.7/dist-packages (from scikit-learn) (1.1.0)\n",
            "Requirement already satisfied: threadpoolctl>=2.0.0 in /usr/local/lib/python3.7/dist-packages (from scikit-learn) (3.1.0)\n"
          ]
        }
      ],
      "source": [
        "!pip install pydicom\n",
        "!pip install opencv-python\n",
        "!pip install Pillow\n",
        "!pip install numpy scipy scikit-learn"
      ]
    },
    {
      "cell_type": "code",
      "execution_count": null,
      "metadata": {
        "id": "wRKebJ34IiJA"
      },
      "outputs": [],
      "source": [
        "# импортируем необходимые библиотеки\n",
        "import pydicom as dicom\n",
        "import cv2\n",
        "from PIL import Image\n",
        "from keras.models import Sequential\n",
        "from keras.layers import Dense\n",
        "from keras.wrappers.scikit_learn import KerasClassifier\n",
        "from keras.utils import np_utils\n",
        "from sklearn.model_selection import cross_val_score\n",
        "from sklearn.model_selection import KFold\n",
        "from sklearn.preprocessing import LabelEncoder\n",
        "from sklearn.pipeline import Pipeline\n",
        "import numpy as np\n"
      ]
    },
    {
      "cell_type": "code",
      "execution_count": null,
      "metadata": {
        "id": "KcLA4WsPIm_A"
      },
      "outputs": [],
      "source": [
        "size=[]\n",
        "# функция вычисления количества больных каждого типа болезни\n",
        "def sizeCheked(arrPneum):\n",
        "    pixel_array_numpy=[]\n",
        "    for i in range(0, len(arrPneum)):\n",
        "        try:\n",
        "            image_path = arrPneum[i]\n",
        "            ds = dicom.dcmread(image_path)\n",
        "            pixel_array_numpy.append(ds.pixel_array)\n",
        "        except FileNotFoundError:\n",
        "            print(i, \": none\")\n",
        "    for i in range(0, len(pixel_array_numpy)):\n",
        "        for j in range(0, len(pixel_array_numpy[i])):\n",
        "            if(pixel_array_numpy[i][j].size!=512):\n",
        "                print(pixel_array_numpy[i][j].size)"
      ]
    },
    {
      "cell_type": "code",
      "execution_count": null,
      "metadata": {
        "id": "3AwwzCtEIzhm"
      },
      "outputs": [],
      "source": [
        "# функция форматирование путей для pandas\n",
        "def spliting(arr):\n",
        "    splitArray=[]\n",
        "    for i in range(0,len(arr)):\n",
        "        splitArray.append(arr[i].split('/'))\n",
        "    return splitArray\n",
        "spliter=spliting(arrPneum)+spliting(arrTub)+spliting(arrCan)"
      ]
    },
    {
      "cell_type": "code",
      "execution_count": null,
      "metadata": {
        "id": "TJKQV26sI7ed"
      },
      "outputs": [],
      "source": [
        "# созздаепм верный формат путей до КТ снимков для загрузки их в pandas\n",
        "preCsv=[]\n",
        "for i in range(0,len(spliter)):\n",
        "    preCsv.append([spliter[i][6], spliter[i][10], \"/\".join(spliter[i])])"
      ]
    },
    {
      "cell_type": "code",
      "execution_count": null,
      "metadata": {
        "colab": {
          "base_uri": "https://localhost:8080/"
        },
        "id": "L3Un60UII8Il",
        "outputId": "050a19e2-d25e-48f0-a514-5fbcf7895db1"
      },
      "outputs": [
        {
          "output_type": "stream",
          "name": "stdout",
          "text": [
            "Requirement already satisfied: pandas in /usr/local/lib/python3.7/dist-packages (1.3.5)\n",
            "Requirement already satisfied: numpy>=1.17.3 in /usr/local/lib/python3.7/dist-packages (from pandas) (1.21.6)\n",
            "Requirement already satisfied: python-dateutil>=2.7.3 in /usr/local/lib/python3.7/dist-packages (from pandas) (2.8.2)\n",
            "Requirement already satisfied: pytz>=2017.3 in /usr/local/lib/python3.7/dist-packages (from pandas) (2022.1)\n",
            "Requirement already satisfied: six>=1.5 in /usr/local/lib/python3.7/dist-packages (from python-dateutil>=2.7.3->pandas) (1.15.0)\n"
          ]
        }
      ],
      "source": [
        "!pip install pandas"
      ]
    },
    {
      "cell_type": "code",
      "execution_count": null,
      "metadata": {
        "id": "edSIKNooJEE0"
      },
      "outputs": [],
      "source": [
        "import pandas as pd\n",
        "df = pd.DataFrame(preCsv) # загружаем данные КТ снимоков в pandas\n",
        "df.to_csv('file.csv', index=False, header=True) # сохраняем в файл"
      ]
    },
    {
      "cell_type": "code",
      "execution_count": null,
      "metadata": {
        "colab": {
          "base_uri": "https://localhost:8080/",
          "height": 424
        },
        "id": "ZrayPg2WJGI0",
        "outputId": "e70dfddf-3221-4e06-e508-5ba109fec0d2"
      },
      "outputs": [
        {
          "output_type": "execute_result",
          "data": {
            "text/plain": [
              "           Type                                           img_name  \\\n",
              "0     Pneumonia  1.2.392.200036.9116.2.5.1.16.1613468577.126923...   \n",
              "1     Pneumonia  1.2.392.200036.9116.2.5.1.16.1613468577.126923...   \n",
              "2     Pneumonia  1.2.392.200036.9116.2.5.1.16.1613468577.126923...   \n",
              "3     Pneumonia  1.2.392.200036.9116.2.5.1.16.1613468577.126923...   \n",
              "4     Pneumonia  1.2.392.200036.9116.2.5.1.16.1613468577.126923...   \n",
              "...         ...                                                ...   \n",
              "6168     Cancer  1.2.392.200036.9116.2.5.1.48.1211466065.150758...   \n",
              "6169     Cancer  1.2.392.200036.9116.2.5.1.48.1211466065.150758...   \n",
              "6170     Cancer  1.2.392.200036.9116.2.5.1.48.1211466065.150758...   \n",
              "6171     Cancer  1.2.392.200036.9116.2.5.1.48.1211466065.150758...   \n",
              "6172     Cancer  1.2.392.200036.9116.2.5.1.48.1211466065.150758...   \n",
              "\n",
              "                                            path_to_img  \n",
              "0     /content/drive/MyDrive/source/DICOM/Pneumonia/...  \n",
              "1     /content/drive/MyDrive/source/DICOM/Pneumonia/...  \n",
              "2     /content/drive/MyDrive/source/DICOM/Pneumonia/...  \n",
              "3     /content/drive/MyDrive/source/DICOM/Pneumonia/...  \n",
              "4     /content/drive/MyDrive/source/DICOM/Pneumonia/...  \n",
              "...                                                 ...  \n",
              "6168  /content/drive/MyDrive/source/DICOM/Cancer/0/L...  \n",
              "6169  /content/drive/MyDrive/source/DICOM/Cancer/0/L...  \n",
              "6170  /content/drive/MyDrive/source/DICOM/Cancer/0/L...  \n",
              "6171  /content/drive/MyDrive/source/DICOM/Cancer/0/L...  \n",
              "6172  /content/drive/MyDrive/source/DICOM/Cancer/0/L...  \n",
              "\n",
              "[6173 rows x 3 columns]"
            ],
            "text/html": [
              "\n",
              "  <div id=\"df-0bcae7c2-e7f8-4a1f-8137-27176ec7325a\">\n",
              "    <div class=\"colab-df-container\">\n",
              "      <div>\n",
              "<style scoped>\n",
              "    .dataframe tbody tr th:only-of-type {\n",
              "        vertical-align: middle;\n",
              "    }\n",
              "\n",
              "    .dataframe tbody tr th {\n",
              "        vertical-align: top;\n",
              "    }\n",
              "\n",
              "    .dataframe thead th {\n",
              "        text-align: right;\n",
              "    }\n",
              "</style>\n",
              "<table border=\"1\" class=\"dataframe\">\n",
              "  <thead>\n",
              "    <tr style=\"text-align: right;\">\n",
              "      <th></th>\n",
              "      <th>Type</th>\n",
              "      <th>img_name</th>\n",
              "      <th>path_to_img</th>\n",
              "    </tr>\n",
              "  </thead>\n",
              "  <tbody>\n",
              "    <tr>\n",
              "      <th>0</th>\n",
              "      <td>Pneumonia</td>\n",
              "      <td>1.2.392.200036.9116.2.5.1.16.1613468577.126923...</td>\n",
              "      <td>/content/drive/MyDrive/source/DICOM/Pneumonia/...</td>\n",
              "    </tr>\n",
              "    <tr>\n",
              "      <th>1</th>\n",
              "      <td>Pneumonia</td>\n",
              "      <td>1.2.392.200036.9116.2.5.1.16.1613468577.126923...</td>\n",
              "      <td>/content/drive/MyDrive/source/DICOM/Pneumonia/...</td>\n",
              "    </tr>\n",
              "    <tr>\n",
              "      <th>2</th>\n",
              "      <td>Pneumonia</td>\n",
              "      <td>1.2.392.200036.9116.2.5.1.16.1613468577.126923...</td>\n",
              "      <td>/content/drive/MyDrive/source/DICOM/Pneumonia/...</td>\n",
              "    </tr>\n",
              "    <tr>\n",
              "      <th>3</th>\n",
              "      <td>Pneumonia</td>\n",
              "      <td>1.2.392.200036.9116.2.5.1.16.1613468577.126923...</td>\n",
              "      <td>/content/drive/MyDrive/source/DICOM/Pneumonia/...</td>\n",
              "    </tr>\n",
              "    <tr>\n",
              "      <th>4</th>\n",
              "      <td>Pneumonia</td>\n",
              "      <td>1.2.392.200036.9116.2.5.1.16.1613468577.126923...</td>\n",
              "      <td>/content/drive/MyDrive/source/DICOM/Pneumonia/...</td>\n",
              "    </tr>\n",
              "    <tr>\n",
              "      <th>...</th>\n",
              "      <td>...</td>\n",
              "      <td>...</td>\n",
              "      <td>...</td>\n",
              "    </tr>\n",
              "    <tr>\n",
              "      <th>6168</th>\n",
              "      <td>Cancer</td>\n",
              "      <td>1.2.392.200036.9116.2.5.1.48.1211466065.150758...</td>\n",
              "      <td>/content/drive/MyDrive/source/DICOM/Cancer/0/L...</td>\n",
              "    </tr>\n",
              "    <tr>\n",
              "      <th>6169</th>\n",
              "      <td>Cancer</td>\n",
              "      <td>1.2.392.200036.9116.2.5.1.48.1211466065.150758...</td>\n",
              "      <td>/content/drive/MyDrive/source/DICOM/Cancer/0/L...</td>\n",
              "    </tr>\n",
              "    <tr>\n",
              "      <th>6170</th>\n",
              "      <td>Cancer</td>\n",
              "      <td>1.2.392.200036.9116.2.5.1.48.1211466065.150758...</td>\n",
              "      <td>/content/drive/MyDrive/source/DICOM/Cancer/0/L...</td>\n",
              "    </tr>\n",
              "    <tr>\n",
              "      <th>6171</th>\n",
              "      <td>Cancer</td>\n",
              "      <td>1.2.392.200036.9116.2.5.1.48.1211466065.150758...</td>\n",
              "      <td>/content/drive/MyDrive/source/DICOM/Cancer/0/L...</td>\n",
              "    </tr>\n",
              "    <tr>\n",
              "      <th>6172</th>\n",
              "      <td>Cancer</td>\n",
              "      <td>1.2.392.200036.9116.2.5.1.48.1211466065.150758...</td>\n",
              "      <td>/content/drive/MyDrive/source/DICOM/Cancer/0/L...</td>\n",
              "    </tr>\n",
              "  </tbody>\n",
              "</table>\n",
              "<p>6173 rows × 3 columns</p>\n",
              "</div>\n",
              "      <button class=\"colab-df-convert\" onclick=\"convertToInteractive('df-0bcae7c2-e7f8-4a1f-8137-27176ec7325a')\"\n",
              "              title=\"Convert this dataframe to an interactive table.\"\n",
              "              style=\"display:none;\">\n",
              "        \n",
              "  <svg xmlns=\"http://www.w3.org/2000/svg\" height=\"24px\"viewBox=\"0 0 24 24\"\n",
              "       width=\"24px\">\n",
              "    <path d=\"M0 0h24v24H0V0z\" fill=\"none\"/>\n",
              "    <path d=\"M18.56 5.44l.94 2.06.94-2.06 2.06-.94-2.06-.94-.94-2.06-.94 2.06-2.06.94zm-11 1L8.5 8.5l.94-2.06 2.06-.94-2.06-.94L8.5 2.5l-.94 2.06-2.06.94zm10 10l.94 2.06.94-2.06 2.06-.94-2.06-.94-.94-2.06-.94 2.06-2.06.94z\"/><path d=\"M17.41 7.96l-1.37-1.37c-.4-.4-.92-.59-1.43-.59-.52 0-1.04.2-1.43.59L10.3 9.45l-7.72 7.72c-.78.78-.78 2.05 0 2.83L4 21.41c.39.39.9.59 1.41.59.51 0 1.02-.2 1.41-.59l7.78-7.78 2.81-2.81c.8-.78.8-2.07 0-2.86zM5.41 20L4 18.59l7.72-7.72 1.47 1.35L5.41 20z\"/>\n",
              "  </svg>\n",
              "      </button>\n",
              "      \n",
              "  <style>\n",
              "    .colab-df-container {\n",
              "      display:flex;\n",
              "      flex-wrap:wrap;\n",
              "      gap: 12px;\n",
              "    }\n",
              "\n",
              "    .colab-df-convert {\n",
              "      background-color: #E8F0FE;\n",
              "      border: none;\n",
              "      border-radius: 50%;\n",
              "      cursor: pointer;\n",
              "      display: none;\n",
              "      fill: #1967D2;\n",
              "      height: 32px;\n",
              "      padding: 0 0 0 0;\n",
              "      width: 32px;\n",
              "    }\n",
              "\n",
              "    .colab-df-convert:hover {\n",
              "      background-color: #E2EBFA;\n",
              "      box-shadow: 0px 1px 2px rgba(60, 64, 67, 0.3), 0px 1px 3px 1px rgba(60, 64, 67, 0.15);\n",
              "      fill: #174EA6;\n",
              "    }\n",
              "\n",
              "    [theme=dark] .colab-df-convert {\n",
              "      background-color: #3B4455;\n",
              "      fill: #D2E3FC;\n",
              "    }\n",
              "\n",
              "    [theme=dark] .colab-df-convert:hover {\n",
              "      background-color: #434B5C;\n",
              "      box-shadow: 0px 1px 3px 1px rgba(0, 0, 0, 0.15);\n",
              "      filter: drop-shadow(0px 1px 2px rgba(0, 0, 0, 0.3));\n",
              "      fill: #FFFFFF;\n",
              "    }\n",
              "  </style>\n",
              "\n",
              "      <script>\n",
              "        const buttonEl =\n",
              "          document.querySelector('#df-0bcae7c2-e7f8-4a1f-8137-27176ec7325a button.colab-df-convert');\n",
              "        buttonEl.style.display =\n",
              "          google.colab.kernel.accessAllowed ? 'block' : 'none';\n",
              "\n",
              "        async function convertToInteractive(key) {\n",
              "          const element = document.querySelector('#df-0bcae7c2-e7f8-4a1f-8137-27176ec7325a');\n",
              "          const dataTable =\n",
              "            await google.colab.kernel.invokeFunction('convertToInteractive',\n",
              "                                                     [key], {});\n",
              "          if (!dataTable) return;\n",
              "\n",
              "          const docLinkHtml = 'Like what you see? Visit the ' +\n",
              "            '<a target=\"_blank\" href=https://colab.research.google.com/notebooks/data_table.ipynb>data table notebook</a>'\n",
              "            + ' to learn more about interactive tables.';\n",
              "          element.innerHTML = '';\n",
              "          dataTable['output_type'] = 'display_data';\n",
              "          await google.colab.output.renderOutput(dataTable, element);\n",
              "          const docLink = document.createElement('div');\n",
              "          docLink.innerHTML = docLinkHtml;\n",
              "          element.appendChild(docLink);\n",
              "        }\n",
              "      </script>\n",
              "    </div>\n",
              "  </div>\n",
              "  "
            ]
          },
          "metadata": {},
          "execution_count": 17
        }
      ],
      "source": [
        "# назначем названия колонок и раскрываем содержимое датафрейма:\n",
        "df.columns = ['Type', 'img_name', 'path_to_img']\n",
        "df"
      ]
    },
    {
      "cell_type": "code",
      "execution_count": null,
      "metadata": {
        "id": "MTGzsMURJIkq"
      },
      "outputs": [],
      "source": [
        "import numpy as np\n",
        "# функция преобразования в хаумсфилдские юниты снимка КТ\n",
        "def get_pixels_hu(scans):\n",
        "    image = np.stack([scans.pixel_array])#np.stack([s.pixel_array for s in scans])\n",
        "    # Convert to int16 (from sometimes int16), \n",
        "    # возможно, так как значения всегда должны быть достаточно низкими (<32k)\n",
        "    image = image.astype(np.int16)\n",
        "\n",
        "    # Установит значение пикселов вне области сканирования равным 1\n",
        "    # intercept обычно составляет -1024, так что воздух составляет примерно 0\n",
        "    image[image == -2000] = 0\n",
        "    \n",
        "    # Convert to Hounsfield units (HU)\n",
        "    intercept = scans.RescaleIntercept\n",
        "    slope = scans.RescaleSlope\n",
        "    \n",
        "    if slope != 1:\n",
        "        image = slope * image.astype(np.float64)\n",
        "        image = image.astype(np.int16)\n",
        "        \n",
        "    image += np.int16(intercept)\n",
        "    \n",
        "    return np.array(image, dtype=np.int16)"
      ]
    },
    {
      "cell_type": "code",
      "execution_count": null,
      "metadata": {
        "id": "4JZAdgbLJLLV"
      },
      "outputs": [],
      "source": [
        "from skimage.transform import resize"
      ]
    },
    {
      "cell_type": "code",
      "execution_count": null,
      "metadata": {
        "id": "O-1QQwCHJM31"
      },
      "outputs": [],
      "source": [
        "# Обертачная функция для финкции преобразования в хаумсфилдские юниты снимка КТ\n",
        "def get_pixel_uid(x):\n",
        "    try:\n",
        "        dcm_x=dicom.dcmread(x, force=True)\n",
        "        #dcm_x.file_meta.TransferSyntaxUID = dicom.uid.ImplicitVRLittleEndian\n",
        "    \n",
        "        return get_pixels_hu(dcm_x).flatten()\n",
        "    except AttributeError:\n",
        "        return None"
      ]
    },
    {
      "cell_type": "code",
      "execution_count": null,
      "metadata": {
        "id": "D2wl6O7nJPP1"
      },
      "outputs": [],
      "source": [
        "import tensorflow as tf"
      ]
    },
    {
      "cell_type": "code",
      "execution_count": null,
      "metadata": {
        "id": "Jk4nG9VKJQv1"
      },
      "outputs": [],
      "source": [
        "# преорбразуем каждый DICOM снимок в хаумсфилдские юниты\n",
        "with tf.device('/GPU:0'):\n",
        "        df[\"img\"]=df[\"path_to_img\"].apply(lambda x: get_pixel_uid(x))"
      ]
    },
    {
      "cell_type": "code",
      "execution_count": null,
      "metadata": {
        "id": "Y1m8m-b8JSYJ"
      },
      "outputs": [],
      "source": [
        "#Standardize the pixel values\n",
        "from sklearn.cluster import KMeans\n",
        "from skimage import morphology\n",
        "from skimage import measure\n",
        "\n",
        "\n",
        "def make_lungmask(img, display=False):\n",
        "    row_size= img.shape[0]\n",
        "    col_size = img.shape[1]\n",
        "    \n",
        "    mean = np.mean(img)\n",
        "    std = np.std(img)\n",
        "    \n",
        "    img = img-mean\n",
        "    img = img/std\n",
        "    # Найти среднее значение пикселя рядом с легкими\n",
        "    # для перенормировки размытых изображений\n",
        "    middle = img[int(col_size/5):int(col_size/5*4),int(row_size/5):int(row_size/5*4)] \n",
        "    mean = np.mean(middle)  \n",
        "    max = np.max(img)\n",
        "    min = np.min(img)\n",
        "    # \n",
        "    # \n",
        "    img[img==max]=mean\n",
        "    img[img==min]=mean\n",
        "    #\n",
        "    # Использование Kmeans для разделения переднего плана (мягкие ткани / кости) и фона (легкие / воздух)\n",
        "    #\n",
        "    kmeans = KMeans(n_clusters=2).fit(np.reshape(middle,[np.prod(middle.shape),1]))\n",
        "    #Получаю центр каждого кластера\n",
        "    centers = sorted(kmeans.cluster_centers_.flatten())\n",
        "    \n",
        "    threshold = np.mean(centers)\n",
        "    \n",
        "    thresh_img = np.where(img<threshold,1.0,0.0)  # пороговое значение изображения\n",
        "\n",
        "    # Сначала удаляются более мелкие элементы, затем расширяются, чтобы включить некоторые пиксели, окружающие легкое. \n",
        "    # нельзя случайно задеть легкое.\n",
        "\n",
        "    eroded = morphology.erosion(thresh_img,np.ones([3,3]))\n",
        "    dilation = morphology.dilation(eroded,np.ones([8,8]))\n",
        "    #Получение связанной области изображения\n",
        "    labels = measure.label(dilation) # Разные части отображаются разными цветами\n",
        "    \n",
        "    #Получение уникальных областей\n",
        "    label_vals = np.unique(labels)\n",
        "    \n",
        "    regions = measure.regionprops(labels)\n",
        "   \n",
        "    good_labels = []\n",
        "    for prop in regions:\n",
        "        B = prop.bbox\n",
        "        if B[2]-B[0]<row_size/10*9 and B[3]-B[1]<col_size/10*9 and B[0]>row_size/5 and B[2]<col_size/5*4:\n",
        "            good_labels.append(prop.label)\n",
        "    mask = np.ndarray([row_size,col_size],dtype=np.int8)\n",
        "    mask[:] = 0\n",
        "\n",
        "    #\n",
        "    #  После того, как останутся только легкие, делаем еще одну операцию, чтобы заполнить и удалить легочную маску\n",
        "    for N in good_labels:\n",
        "        mask = mask + np.where(labels==N,1,0)\n",
        "    print(\"mask: \",mask)\n",
        "    mask = morphology.dilation(mask,np.ones([10,10])) # one last dilation\n",
        "\n",
        "    # if (display):\n",
        "    #     fig, ax = plt.subplots(3, 2, figsize=[12, 12])\n",
        "    #     ax[0, 0].set_title(\"Original\")\n",
        "    #     ax[0, 0].imshow(img, cmap='gray')\n",
        "    #     ax[0, 0].axis('off')\n",
        "    #     ax[0, 1].set_title(\"Threshold\")\n",
        "    #     ax[0, 1].imshow(thresh_img, cmap='gray')\n",
        "    #     ax[0, 1].axis('off')\n",
        "    #     ax[1, 0].set_title(\"After Erosion and Dilation\")\n",
        "    #     ax[1, 0].imshow(dilation, cmap='gray')\n",
        "    #     ax[1, 0].axis('off')\n",
        "    #     ax[1, 1].set_title(\"Color Labels\")\n",
        "    #     ax[1, 1].imshow(labels, cmap='plasma')\n",
        "    #     ax[1, 1].axis('off')\n",
        "    #     ax[2, 0].set_title(\"Final Mask\")\n",
        "    #     ax[2, 0].imshow(mask, cmap='gray')\n",
        "    #     ax[2, 0].axis('off')\n",
        "    #     ax[2, 1].set_title(\"Apply Mask on Original\")\n",
        "    #     ax[2, 1].imshow(mask*img, cmap='gray')\n",
        "    #     ax[2, 1].axis('off')\n",
        "        \n",
        "    #     plt.show()\n",
        "    return mask*img\n",
        "def resample(image, scan, new_spacing=[1,1,1]):\n",
        "    # Determine current pixel spacing\n",
        "    spacing = map(float, ([scan[0].SliceThickness] + list(scan[0].PixelSpacing)))\n",
        "    spacing = np.array(list(spacing))\n",
        "\n",
        "    resize_factor = spacing / new_spacing\n",
        "    new_real_shape = image.shape * resize_factor\n",
        "    new_shape = np.round(new_real_shape)\n",
        "    real_resize_factor = new_shape / image.shape\n",
        "    new_spacing = spacing / real_resize_factor\n",
        "    \n",
        "    image = scipy.ndimage.interpolation.zoom(image, real_resize_factor)\n",
        "    \n",
        "    return image, new_spacing\n"
      ]
    },
    {
      "cell_type": "code",
      "execution_count": null,
      "metadata": {
        "id": "e6FsR7btJVVI"
      },
      "outputs": [],
      "source": [
        "df.columns = ['Type', 'img_name', 'path_to_img']"
      ]
    },
    {
      "cell_type": "code",
      "execution_count": null,
      "metadata": {
        "id": "nYjtWw7CD_ZB"
      },
      "outputs": [],
      "source": [
        "# функция дублирования одного слоя на 3\n",
        "def expand_greyscale_image_channels(grey_pil_image):\n",
        "    grey_image_arr = np.array(grey_pil_image)\n",
        "    grey_image_arr = np.expand_dims(grey_image_arr, -1)\n",
        "    grey_image_arr_3_channel = grey_image_arr.repeat(3, axis=-1)\n",
        "    return grey_image_arr_3_channel"
      ]
    },
    {
      "cell_type": "code",
      "execution_count": null,
      "metadata": {
        "id": "XEUrO5SiMHOS"
      },
      "outputs": [],
      "source": [
        "import matplotlib.pylab as plt"
      ]
    },
    {
      "cell_type": "code",
      "execution_count": null,
      "metadata": {
        "id": "tbnl1tFmJfW8"
      },
      "outputs": [],
      "source": [
        "# функция получения необходимого преобразованнго слоя\n",
        "def aply_mask(img):\n",
        "    try:\n",
        "         # применение алгоритма сегментации и прменения алгоритма бикубической интрполяции для изменения размера каждого слоя \n",
        "        return  expand_greyscale_image_channels(resize(make_lungmask(img.reshape(512,512)), (64,64)))\n",
        "    except:\n",
        "        return None"
      ]
    },
    {
      "cell_type": "code",
      "execution_count": null,
      "metadata": {
        "id": "aE3HhBzOJppt"
      },
      "outputs": [],
      "source": [
        "# преобразование данных\n",
        "df[\"mask\"]=df[\"img\"].apply(lambda x:aply_mask(x))"
      ]
    },
    {
      "cell_type": "code",
      "execution_count": null,
      "metadata": {
        "id": "B7Du1Q4TJuA4"
      },
      "outputs": [],
      "source": [
        "# избавление от дубликатов\n",
        "dx = df.sample(frac=1).reset_index(drop=True)"
      ]
    },
    {
      "cell_type": "code",
      "execution_count": null,
      "metadata": {
        "colab": {
          "base_uri": "https://localhost:8080/"
        },
        "id": "WrpShdn3DL0t",
        "outputId": "dcdc32d7-8213-4aa8-983c-9b2963467ce5"
      },
      "outputs": [
        {
          "output_type": "execute_result",
          "data": {
            "text/plain": [
              "Type           0\n",
              "img_name       0\n",
              "path_to_img    0\n",
              "img            0\n",
              "mask           0\n",
              "dtype: int64"
            ]
          },
          "metadata": {},
          "execution_count": 30
        }
      ],
      "source": [
        "dx.isnull().sum()"
      ]
    },
    {
      "cell_type": "code",
      "execution_count": null,
      "metadata": {
        "colab": {
          "base_uri": "https://localhost:8080/"
        },
        "id": "HEG6uZGYDMPY",
        "outputId": "9345bd88-dc4d-463f-98f0-bb94b1d52494"
      },
      "outputs": [
        {
          "output_type": "execute_result",
          "data": {
            "text/plain": [
              "Type           0\n",
              "img_name       0\n",
              "path_to_img    0\n",
              "img            0\n",
              "mask           0\n",
              "dtype: int64"
            ]
          },
          "metadata": {},
          "execution_count": 31
        }
      ],
      "source": [
        "dx=dx[dx['img'].notna()]\n",
        "dx.isnull().sum()"
      ]
    },
    {
      "cell_type": "code",
      "execution_count": null,
      "metadata": {
        "id": "Wp3jgH3wXiAe"
      },
      "outputs": [],
      "source": [
        "# удаление не нужных столбцов\n",
        "del dx['img']\n",
        "del dx['path_to_img']\n",
        "del dx['img_name']"
      ]
    },
    {
      "cell_type": "code",
      "source": [
        "print(dx)"
      ],
      "metadata": {
        "colab": {
          "base_uri": "https://localhost:8080/"
        },
        "id": "MwJJ8eg_m8-u",
        "outputId": "b01be96a-7945-4499-b92c-9dab0046518f"
      },
      "execution_count": null,
      "outputs": [
        {
          "output_type": "stream",
          "name": "stdout",
          "text": [
            "              Type                                               mask\n",
            "0     Tuberculosis  [[[0.0, 0.0, 0.0], [0.0, 0.0, 0.0], [0.0, 0.0,...\n",
            "1     Tuberculosis  [[[0.0, 0.0, 0.0], [0.0, 0.0, 0.0], [0.0, 0.0,...\n",
            "2     Tuberculosis  [[[0.0, 0.0, 0.0], [0.0, 0.0, 0.0], [0.0, 0.0,...\n",
            "3     Tuberculosis  [[[0.0, 0.0, 0.0], [0.0, 0.0, 0.0], [0.0, 0.0,...\n",
            "4     Tuberculosis  [[[0.0, 0.0, 0.0], [0.0, 0.0, 0.0], [0.0, 0.0,...\n",
            "...            ...                                                ...\n",
            "6168     Pneumonia  [[[0.0, 0.0, 0.0], [0.0, 0.0, 0.0], [0.0, 0.0,...\n",
            "6169        Cancer  [[[0.0, 0.0, 0.0], [0.0, 0.0, 0.0], [0.0, 0.0,...\n",
            "6170  Tuberculosis  [[[0.0, 0.0, 0.0], [0.0, 0.0, 0.0], [0.0, 0.0,...\n",
            "6171        Cancer  [[[0.0, 0.0, 0.0], [0.0, 0.0, 0.0], [0.0, 0.0,...\n",
            "6172  Tuberculosis  [[[0.0, 0.0, 0.0], [0.0, 0.0, 0.0], [0.0, 0.0,...\n",
            "\n",
            "[6173 rows x 2 columns]\n"
          ]
        }
      ]
    },
    {
      "cell_type": "code",
      "execution_count": null,
      "metadata": {
        "colab": {
          "base_uri": "https://localhost:8080/"
        },
        "id": "NvnzGGzqDN2_",
        "outputId": "f86a8fc1-ea09-41fd-c14f-bae26444f694"
      },
      "outputs": [
        {
          "output_type": "execute_result",
          "data": {
            "text/plain": [
              "LabelEncoder()"
            ]
          },
          "metadata": {},
          "execution_count": 33
        }
      ],
      "source": [
        "Xc = dx['mask'] # преобразованные изображения\n",
        "Yc = dx['Type'] # болезнь пациента\n",
        "# создаем обЪект с мультиклассовыми метками\n",
        "encoder = LabelEncoder()\n",
        "encoder.fit(Yc)\n"
      ]
    },
    {
      "cell_type": "code",
      "execution_count": null,
      "metadata": {
        "id": "LOF3ewTmDNtv"
      },
      "outputs": [],
      "source": [
        "# пропускаем изображение исколючение\n",
        "Xc=np.concatenate((Xc[0:107],Xc[108:len(Xc)]))  \n",
        "Yc=np.concatenate((Yc[0:107],Yc[108:len(Yc)])) "
      ]
    },
    {
      "cell_type": "code",
      "execution_count": null,
      "metadata": {
        "id": "9kFH5DTDDRUm"
      },
      "outputs": [],
      "source": [
        "# преобразуем стобец с болезнью в мультукласовый\n",
        "encoded_Yc = encoder.transform(Yc)\n",
        "dummy_y = np_utils.to_categorical(encoded_Yc)"
      ]
    },
    {
      "cell_type": "code",
      "execution_count": null,
      "metadata": {
        "id": "PsHsKAYKV4cU"
      },
      "outputs": [],
      "source": [
        "#преобразование Python List в numpyNdArray\n",
        "new_X=[]\n",
        "for i in range(0,len(Xc)):\n",
        "    new_X.append(Xc[i])\n",
        "new_X=np.array(new_X)\n",
        "new_X.shape"
      ]
    },
    {
      "cell_type": "markdown",
      "source": [
        "**RESNET**"
      ],
      "metadata": {
        "id": "P4ss8-ykf-kW"
      }
    },
    {
      "cell_type": "code",
      "source": [
        "# импортируем все необходимые библиотеки\n",
        "import pandas as pd\n",
        "import numpy as np \n",
        "import matplotlib.pyplot as plt\n",
        "import os\n",
        "from urllib.request import urlopen,urlretrieve\n",
        "from PIL import Image\n",
        "from tqdm import tqdm_notebook\n",
        "%matplotlib inline\n",
        "from sklearn.utils import shuffle\n",
        "import cv2\n",
        "from keras.models import load_model\n",
        "from sklearn.datasets import load_files   \n",
        "from keras.utils import np_utils\n",
        "from glob import glob\n",
        "from keras import applications\n",
        "from keras.preprocessing.image import ImageDataGenerator \n",
        "from keras import optimizers\n",
        "from keras.models import Sequential,Model,load_model\n",
        "from keras.layers import Dense, Dropout, Flatten, Conv2D, MaxPool2D,GlobalAveragePooling2D\n",
        "from keras.callbacks import TensorBoard,ReduceLROnPlateau,ModelCheckpoint\n"
      ],
      "metadata": {
        "id": "aGJH6IIBf9Qb"
      },
      "execution_count": null,
      "outputs": []
    },
    {
      "cell_type": "code",
      "source": [
        "from tensorflow.keras.applications.resnet50 import ResNet50 # импортируем готовую модель ResNet50"
      ],
      "metadata": {
        "id": "YIYgab3NWQ_3"
      },
      "execution_count": null,
      "outputs": []
    },
    {
      "cell_type": "code",
      "source": [
        "img_height,img_width = 64,64 # размер одного изображения\n",
        "num_classes = 3 # количество классов\n",
        "#создаем модель исключаем первый уровень свертки  и с размером изображении 64 на 64\n",
        "base_model = ResNet50(weights= None, include_top=False, input_shape= (img_height,img_width,3))"
      ],
      "metadata": {
        "id": "2HPh3p7zgGQi"
      },
      "execution_count": null,
      "outputs": []
    },
    {
      "cell_type": "code",
      "source": [
        "# создаем полносвязанную сеть для классификатора\n",
        "x = base_model.output\n",
        "x = GlobalAveragePooling2D()(x)\n",
        "x = Dropout(0.7)(x)\n",
        "predictions = Dense(num_classes, activation= 'softmax')(x)\n",
        "model = Model(inputs = base_model.input, outputs = predictions)"
      ],
      "metadata": {
        "id": "VlsmdcZNgL-6"
      },
      "execution_count": null,
      "outputs": []
    },
    {
      "cell_type": "code",
      "source": [
        "from tensorflow.keras.optimizers import SGD, Adam\n",
        "#добавлеем оптимизаторы и функцию потерь\n",
        "adam = Adam(lr=0.0001)\n",
        "model.compile(optimizer= adam, loss='categorical_crossentropy', metrics=['accuracy'])"
      ],
      "metadata": {
        "colab": {
          "base_uri": "https://localhost:8080/"
        },
        "id": "nKbQC_FXgQqu",
        "outputId": "9dfa2a3a-fe98-4c1c-bee9-95e01f81a543"
      },
      "execution_count": null,
      "outputs": [
        {
          "output_type": "stream",
          "name": "stderr",
          "text": [
            "/usr/local/lib/python3.7/dist-packages/keras/optimizer_v2/adam.py:105: UserWarning: The `lr` argument is deprecated, use `learning_rate` instead.\n",
            "  super(Adam, self).__init__(name, **kwargs)\n"
          ]
        }
      ]
    },
    {
      "cell_type": "code",
      "source": [
        "#создаем конфигурацию хода обучения сети\n",
        "IMAGE_SIZE = [64, 64] \n",
        "BATCH_SIZE = 50\n",
        "EPOCHS = 100\n"
      ],
      "metadata": {
        "id": "7OuDxU7Lyu0K"
      },
      "execution_count": null,
      "outputs": []
    },
    {
      "cell_type": "code",
      "source": [
        "# обучаем модель\n",
        "history = model.fit(new_X[0:4000], dummy_y[0:4000], batch_size=BATCH_SIZE,validation_data=(new_X[4000:5934], dummy_y[4000:5934]), epochs=EPOCHS)\n"
      ],
      "metadata": {
        "colab": {
          "base_uri": "https://localhost:8080/"
        },
        "id": "0xhfqB3OgWaJ",
        "outputId": "10df4e2b-9f61-4662-a520-7801ffed997f"
      },
      "execution_count": null,
      "outputs": [
        {
          "output_type": "stream",
          "name": "stdout",
          "text": [
            "Epoch 1/100\n",
            "80/80 [==============================] - 24s 102ms/step - loss: 1.9174 - accuracy: 0.3980 - val_loss: 1.0818 - val_accuracy: 0.4023\n",
            "Epoch 2/100\n",
            "80/80 [==============================] - 6s 80ms/step - loss: 1.4011 - accuracy: 0.4832 - val_loss: 1.0794 - val_accuracy: 0.4018\n",
            "Epoch 3/100\n",
            "80/80 [==============================] - 7s 86ms/step - loss: 1.1402 - accuracy: 0.5570 - val_loss: 1.1249 - val_accuracy: 0.3578\n",
            "Epoch 4/100\n",
            "80/80 [==============================] - 6s 81ms/step - loss: 0.8996 - accuracy: 0.6610 - val_loss: 1.1618 - val_accuracy: 0.3557\n",
            "Epoch 5/100\n",
            "80/80 [==============================] - 6s 81ms/step - loss: 0.7000 - accuracy: 0.7563 - val_loss: 1.1418 - val_accuracy: 0.3961\n",
            "Epoch 6/100\n",
            "80/80 [==============================] - 7s 81ms/step - loss: 0.5300 - accuracy: 0.7993 - val_loss: 1.4667 - val_accuracy: 0.3697\n",
            "Epoch 7/100\n",
            "80/80 [==============================] - 7s 88ms/step - loss: 0.5020 - accuracy: 0.8130 - val_loss: 1.4879 - val_accuracy: 0.4255\n",
            "Epoch 8/100\n",
            "80/80 [==============================] - 7s 82ms/step - loss: 0.4763 - accuracy: 0.8232 - val_loss: 1.3362 - val_accuracy: 0.5408\n",
            "Epoch 9/100\n",
            "80/80 [==============================] - 7s 89ms/step - loss: 0.3627 - accuracy: 0.8625 - val_loss: 0.8256 - val_accuracy: 0.7022\n",
            "Epoch 10/100\n",
            "80/80 [==============================] - 7s 86ms/step - loss: 0.3492 - accuracy: 0.8580 - val_loss: 0.6244 - val_accuracy: 0.7740\n",
            "Epoch 11/100\n",
            "80/80 [==============================] - 7s 84ms/step - loss: 0.3101 - accuracy: 0.8700 - val_loss: 0.5838 - val_accuracy: 0.7865\n",
            "Epoch 12/100\n",
            "80/80 [==============================] - 7s 84ms/step - loss: 0.3331 - accuracy: 0.8715 - val_loss: 0.7573 - val_accuracy: 0.7637\n",
            "Epoch 13/100\n",
            "80/80 [==============================] - 7s 84ms/step - loss: 0.3133 - accuracy: 0.8717 - val_loss: 0.5656 - val_accuracy: 0.7989\n",
            "Epoch 14/100\n",
            "80/80 [==============================] - 7s 89ms/step - loss: 0.3039 - accuracy: 0.8658 - val_loss: 0.6200 - val_accuracy: 0.7921\n",
            "Epoch 15/100\n",
            "80/80 [==============================] - 7s 84ms/step - loss: 0.2317 - accuracy: 0.8950 - val_loss: 0.5606 - val_accuracy: 0.8175\n",
            "Epoch 16/100\n",
            "80/80 [==============================] - 7s 84ms/step - loss: 0.2680 - accuracy: 0.8808 - val_loss: 0.5473 - val_accuracy: 0.8180\n",
            "Epoch 17/100\n",
            "80/80 [==============================] - 7s 84ms/step - loss: 0.2628 - accuracy: 0.8835 - val_loss: 0.5965 - val_accuracy: 0.8092\n",
            "Epoch 18/100\n",
            "80/80 [==============================] - 7s 89ms/step - loss: 0.2519 - accuracy: 0.8827 - val_loss: 0.6209 - val_accuracy: 0.8025\n",
            "Epoch 19/100\n",
            "80/80 [==============================] - 7s 83ms/step - loss: 0.2141 - accuracy: 0.8903 - val_loss: 0.6252 - val_accuracy: 0.7989\n",
            "Epoch 20/100\n",
            "80/80 [==============================] - 7s 83ms/step - loss: 0.2484 - accuracy: 0.8907 - val_loss: 0.5692 - val_accuracy: 0.8185\n",
            "Epoch 21/100\n",
            "80/80 [==============================] - 7s 84ms/step - loss: 0.2059 - accuracy: 0.8995 - val_loss: 0.6141 - val_accuracy: 0.8133\n",
            "Epoch 22/100\n",
            "80/80 [==============================] - 7s 84ms/step - loss: 0.1996 - accuracy: 0.8972 - val_loss: 0.5462 - val_accuracy: 0.8175\n",
            "Epoch 23/100\n",
            "80/80 [==============================] - 7s 83ms/step - loss: 0.1825 - accuracy: 0.9057 - val_loss: 0.5157 - val_accuracy: 0.8294\n",
            "Epoch 24/100\n",
            "80/80 [==============================] - 7s 84ms/step - loss: 0.1816 - accuracy: 0.9082 - val_loss: 0.5909 - val_accuracy: 0.8149\n",
            "Epoch 25/100\n",
            "80/80 [==============================] - 7s 84ms/step - loss: 0.1805 - accuracy: 0.9043 - val_loss: 0.5913 - val_accuracy: 0.8195\n",
            "Epoch 26/100\n",
            "80/80 [==============================] - 7s 84ms/step - loss: 0.1953 - accuracy: 0.8997 - val_loss: 0.5695 - val_accuracy: 0.8190\n",
            "Epoch 27/100\n",
            "80/80 [==============================] - 7s 84ms/step - loss: 0.1905 - accuracy: 0.8965 - val_loss: 0.5398 - val_accuracy: 0.8232\n",
            "Epoch 28/100\n",
            "80/80 [==============================] - 7s 84ms/step - loss: 0.1888 - accuracy: 0.9105 - val_loss: 0.4942 - val_accuracy: 0.8289\n",
            "Epoch 29/100\n",
            "80/80 [==============================] - 7s 89ms/step - loss: 0.1822 - accuracy: 0.9075 - val_loss: 0.5278 - val_accuracy: 0.8283\n",
            "Epoch 30/100\n",
            "80/80 [==============================] - 7s 84ms/step - loss: 0.1850 - accuracy: 0.9050 - val_loss: 0.6064 - val_accuracy: 0.8242\n",
            "Epoch 31/100\n",
            "80/80 [==============================] - 7s 84ms/step - loss: 0.1992 - accuracy: 0.9055 - val_loss: 0.5474 - val_accuracy: 0.8190\n",
            "Epoch 32/100\n",
            "80/80 [==============================] - 7s 90ms/step - loss: 0.2155 - accuracy: 0.8928 - val_loss: 0.5566 - val_accuracy: 0.8020\n",
            "Epoch 33/100\n",
            "80/80 [==============================] - 7s 84ms/step - loss: 0.2458 - accuracy: 0.8925 - val_loss: 0.7507 - val_accuracy: 0.7865\n",
            "Epoch 34/100\n",
            "80/80 [==============================] - 7s 84ms/step - loss: 0.2030 - accuracy: 0.8967 - val_loss: 0.5131 - val_accuracy: 0.8314\n",
            "Epoch 35/100\n",
            "80/80 [==============================] - 7s 83ms/step - loss: 0.1856 - accuracy: 0.9055 - val_loss: 0.5346 - val_accuracy: 0.8216\n",
            "Epoch 36/100\n",
            "80/80 [==============================] - 7s 84ms/step - loss: 0.1947 - accuracy: 0.9030 - val_loss: 0.5494 - val_accuracy: 0.8232\n",
            "Epoch 37/100\n",
            "80/80 [==============================] - 7s 83ms/step - loss: 0.2352 - accuracy: 0.8942 - val_loss: 0.8208 - val_accuracy: 0.7921\n",
            "Epoch 38/100\n",
            "80/80 [==============================] - 7s 84ms/step - loss: 0.2018 - accuracy: 0.9038 - val_loss: 0.5280 - val_accuracy: 0.8283\n",
            "Epoch 39/100\n",
            "80/80 [==============================] - 7s 84ms/step - loss: 0.1799 - accuracy: 0.9090 - val_loss: 0.5648 - val_accuracy: 0.8299\n",
            "Epoch 40/100\n",
            "80/80 [==============================] - 7s 84ms/step - loss: 0.2079 - accuracy: 0.8978 - val_loss: 0.5448 - val_accuracy: 0.8133\n",
            "Epoch 41/100\n",
            "80/80 [==============================] - 7s 84ms/step - loss: 0.2044 - accuracy: 0.8913 - val_loss: 0.5411 - val_accuracy: 0.8257\n",
            "Epoch 42/100\n",
            "80/80 [==============================] - 7s 83ms/step - loss: 0.1872 - accuracy: 0.8990 - val_loss: 0.5333 - val_accuracy: 0.8361\n",
            "Epoch 43/100\n",
            "80/80 [==============================] - 7s 84ms/step - loss: 0.1681 - accuracy: 0.9120 - val_loss: 0.5526 - val_accuracy: 0.8330\n",
            "Epoch 44/100\n",
            "80/80 [==============================] - 7s 84ms/step - loss: 0.1727 - accuracy: 0.9072 - val_loss: 0.5563 - val_accuracy: 0.8387\n",
            "Epoch 45/100\n",
            "80/80 [==============================] - 7s 84ms/step - loss: 0.1695 - accuracy: 0.9065 - val_loss: 0.5693 - val_accuracy: 0.8392\n",
            "Epoch 46/100\n",
            "80/80 [==============================] - 7s 84ms/step - loss: 0.1788 - accuracy: 0.9085 - val_loss: 0.5499 - val_accuracy: 0.8283\n",
            "Epoch 47/100\n",
            "80/80 [==============================] - 7s 84ms/step - loss: 0.1778 - accuracy: 0.9085 - val_loss: 0.5380 - val_accuracy: 0.8304\n",
            "Epoch 48/100\n",
            "80/80 [==============================] - 7s 90ms/step - loss: 0.1700 - accuracy: 0.9093 - val_loss: 0.5081 - val_accuracy: 0.8418\n",
            "Epoch 49/100\n",
            "80/80 [==============================] - 7s 84ms/step - loss: 0.2035 - accuracy: 0.8930 - val_loss: 0.6317 - val_accuracy: 0.8066\n",
            "Epoch 50/100\n",
            "80/80 [==============================] - 7s 84ms/step - loss: 0.2115 - accuracy: 0.8923 - val_loss: 0.8953 - val_accuracy: 0.7704\n",
            "Epoch 51/100\n",
            "80/80 [==============================] - 7s 84ms/step - loss: 0.1952 - accuracy: 0.9028 - val_loss: 0.5235 - val_accuracy: 0.8237\n",
            "Epoch 52/100\n",
            "80/80 [==============================] - 7s 84ms/step - loss: 0.1819 - accuracy: 0.9050 - val_loss: 0.5506 - val_accuracy: 0.8299\n",
            "Epoch 53/100\n",
            "80/80 [==============================] - 7s 84ms/step - loss: 0.1915 - accuracy: 0.9020 - val_loss: 0.7091 - val_accuracy: 0.8164\n",
            "Epoch 54/100\n",
            "80/80 [==============================] - 7s 84ms/step - loss: 0.1766 - accuracy: 0.9080 - val_loss: 0.6350 - val_accuracy: 0.8278\n",
            "Epoch 55/100\n",
            "80/80 [==============================] - 7s 84ms/step - loss: 0.1926 - accuracy: 0.9047 - val_loss: 0.5845 - val_accuracy: 0.8289\n",
            "Epoch 56/100\n",
            "80/80 [==============================] - 7s 84ms/step - loss: 0.2024 - accuracy: 0.8988 - val_loss: 0.5844 - val_accuracy: 0.8299\n",
            "Epoch 57/100\n",
            "80/80 [==============================] - 7s 84ms/step - loss: 0.1813 - accuracy: 0.9090 - val_loss: 0.5146 - val_accuracy: 0.8366\n",
            "Epoch 58/100\n",
            "80/80 [==============================] - 7s 84ms/step - loss: 0.1738 - accuracy: 0.9068 - val_loss: 0.4904 - val_accuracy: 0.8438\n",
            "Epoch 59/100\n",
            "80/80 [==============================] - 7s 84ms/step - loss: 0.1629 - accuracy: 0.9170 - val_loss: 0.5085 - val_accuracy: 0.8438\n",
            "Epoch 60/100\n",
            "80/80 [==============================] - 7s 84ms/step - loss: 0.1636 - accuracy: 0.9143 - val_loss: 0.4969 - val_accuracy: 0.8469\n",
            "Epoch 61/100\n",
            "80/80 [==============================] - 7s 84ms/step - loss: 0.1649 - accuracy: 0.9110 - val_loss: 0.5261 - val_accuracy: 0.8428\n",
            "Epoch 62/100\n",
            "80/80 [==============================] - 7s 84ms/step - loss: 0.1652 - accuracy: 0.9118 - val_loss: 0.4891 - val_accuracy: 0.8444\n",
            "Epoch 63/100\n",
            "80/80 [==============================] - 7s 84ms/step - loss: 0.1667 - accuracy: 0.9062 - val_loss: 0.4833 - val_accuracy: 0.8521\n",
            "Epoch 64/100\n",
            "80/80 [==============================] - 7s 84ms/step - loss: 0.1573 - accuracy: 0.9147 - val_loss: 0.4955 - val_accuracy: 0.8444\n",
            "Epoch 65/100\n",
            "80/80 [==============================] - 7s 89ms/step - loss: 0.1712 - accuracy: 0.9112 - val_loss: 0.4817 - val_accuracy: 0.8387\n",
            "Epoch 66/100\n",
            "80/80 [==============================] - 7s 84ms/step - loss: 0.1748 - accuracy: 0.9082 - val_loss: 0.5068 - val_accuracy: 0.8289\n",
            "Epoch 67/100\n",
            "80/80 [==============================] - 7s 84ms/step - loss: 0.1737 - accuracy: 0.9075 - val_loss: 0.4937 - val_accuracy: 0.8330\n",
            "Epoch 68/100\n",
            "80/80 [==============================] - 7s 84ms/step - loss: 0.1740 - accuracy: 0.9075 - val_loss: 0.4637 - val_accuracy: 0.8459\n",
            "Epoch 69/100\n",
            "80/80 [==============================] - 7s 84ms/step - loss: 0.1665 - accuracy: 0.9085 - val_loss: 0.5132 - val_accuracy: 0.8407\n",
            "Epoch 70/100\n",
            "80/80 [==============================] - 7s 84ms/step - loss: 0.1751 - accuracy: 0.9043 - val_loss: 0.5139 - val_accuracy: 0.8351\n",
            "Epoch 71/100\n",
            "80/80 [==============================] - 7s 90ms/step - loss: 0.1871 - accuracy: 0.9028 - val_loss: 0.5020 - val_accuracy: 0.8402\n",
            "Epoch 72/100\n",
            "80/80 [==============================] - 7s 84ms/step - loss: 0.1707 - accuracy: 0.9120 - val_loss: 0.4875 - val_accuracy: 0.8407\n",
            "Epoch 73/100\n",
            "80/80 [==============================] - 7s 84ms/step - loss: 0.1655 - accuracy: 0.9085 - val_loss: 0.5159 - val_accuracy: 0.8376\n",
            "Epoch 74/100\n",
            "80/80 [==============================] - 7s 84ms/step - loss: 0.1686 - accuracy: 0.9110 - val_loss: 0.4566 - val_accuracy: 0.8573\n",
            "Epoch 75/100\n",
            "80/80 [==============================] - 7s 84ms/step - loss: 0.1827 - accuracy: 0.9040 - val_loss: 1.2493 - val_accuracy: 0.6939\n",
            "Epoch 76/100\n",
            "80/80 [==============================] - 7s 84ms/step - loss: 0.2030 - accuracy: 0.9045 - val_loss: 0.5190 - val_accuracy: 0.8382\n",
            "Epoch 77/100\n",
            "80/80 [==============================] - 7s 84ms/step - loss: 0.1845 - accuracy: 0.9045 - val_loss: 0.5213 - val_accuracy: 0.8387\n",
            "Epoch 78/100\n",
            "80/80 [==============================] - 7s 84ms/step - loss: 0.1702 - accuracy: 0.9107 - val_loss: 0.4919 - val_accuracy: 0.8485\n",
            "Epoch 79/100\n",
            "80/80 [==============================] - 7s 84ms/step - loss: 0.1716 - accuracy: 0.9143 - val_loss: 0.5057 - val_accuracy: 0.8351\n",
            "Epoch 80/100\n",
            "80/80 [==============================] - 7s 90ms/step - loss: 0.1734 - accuracy: 0.9097 - val_loss: 0.4491 - val_accuracy: 0.8501\n",
            "Epoch 81/100\n",
            "80/80 [==============================] - 7s 84ms/step - loss: 0.1632 - accuracy: 0.9103 - val_loss: 0.4943 - val_accuracy: 0.8485\n",
            "Epoch 82/100\n",
            "80/80 [==============================] - 7s 84ms/step - loss: 0.1664 - accuracy: 0.9060 - val_loss: 0.5681 - val_accuracy: 0.8413\n",
            "Epoch 83/100\n",
            "80/80 [==============================] - 7s 84ms/step - loss: 0.1937 - accuracy: 0.9070 - val_loss: 0.4467 - val_accuracy: 0.8511\n",
            "Epoch 84/100\n",
            "80/80 [==============================] - 7s 84ms/step - loss: 0.1733 - accuracy: 0.9078 - val_loss: 0.4458 - val_accuracy: 0.8454\n",
            "Epoch 85/100\n",
            "80/80 [==============================] - 7s 84ms/step - loss: 0.2155 - accuracy: 0.9035 - val_loss: 0.5403 - val_accuracy: 0.8247\n",
            "Epoch 86/100\n",
            "80/80 [==============================] - 7s 84ms/step - loss: 0.1746 - accuracy: 0.9107 - val_loss: 0.4917 - val_accuracy: 0.8423\n",
            "Epoch 87/100\n",
            "80/80 [==============================] - 7s 84ms/step - loss: 0.1687 - accuracy: 0.9087 - val_loss: 0.5966 - val_accuracy: 0.8304\n",
            "Epoch 88/100\n",
            "80/80 [==============================] - 7s 84ms/step - loss: 0.1568 - accuracy: 0.9162 - val_loss: 0.5376 - val_accuracy: 0.8532\n",
            "Epoch 89/100\n",
            "80/80 [==============================] - 7s 84ms/step - loss: 0.1565 - accuracy: 0.9187 - val_loss: 0.5672 - val_accuracy: 0.8506\n",
            "Epoch 90/100\n",
            "80/80 [==============================] - 7s 84ms/step - loss: 0.1678 - accuracy: 0.9105 - val_loss: 0.5160 - val_accuracy: 0.8449\n",
            "Epoch 91/100\n",
            "80/80 [==============================] - 7s 84ms/step - loss: 0.1836 - accuracy: 0.9090 - val_loss: 0.4742 - val_accuracy: 0.8459\n",
            "Epoch 92/100\n",
            "80/80 [==============================] - 7s 90ms/step - loss: 0.1594 - accuracy: 0.9122 - val_loss: 0.4958 - val_accuracy: 0.8475\n",
            "Epoch 93/100\n",
            "80/80 [==============================] - 7s 84ms/step - loss: 0.1564 - accuracy: 0.9125 - val_loss: 0.4930 - val_accuracy: 0.8552\n",
            "Epoch 94/100\n",
            "80/80 [==============================] - 7s 84ms/step - loss: 0.1600 - accuracy: 0.9153 - val_loss: 0.5373 - val_accuracy: 0.8459\n",
            "Epoch 95/100\n",
            "80/80 [==============================] - 7s 84ms/step - loss: 0.1699 - accuracy: 0.9075 - val_loss: 0.5356 - val_accuracy: 0.8382\n",
            "Epoch 96/100\n",
            "80/80 [==============================] - 7s 84ms/step - loss: 0.2207 - accuracy: 0.8955 - val_loss: 0.9903 - val_accuracy: 0.7135\n",
            "Epoch 97/100\n",
            "80/80 [==============================] - 7s 84ms/step - loss: 0.3347 - accuracy: 0.8593 - val_loss: 0.6537 - val_accuracy: 0.7823\n",
            "Epoch 98/100\n",
            "80/80 [==============================] - 7s 84ms/step - loss: 0.1998 - accuracy: 0.8992 - val_loss: 0.4044 - val_accuracy: 0.8563\n",
            "Epoch 99/100\n",
            "80/80 [==============================] - 7s 84ms/step - loss: 0.1785 - accuracy: 0.9125 - val_loss: 0.4287 - val_accuracy: 0.8547\n",
            "Epoch 100/100\n",
            "80/80 [==============================] - 7s 84ms/step - loss: 0.1657 - accuracy: 0.9105 - val_loss: 0.4052 - val_accuracy: 0.8609\n"
          ]
        }
      ]
    },
    {
      "cell_type": "code",
      "source": [
        "#выводим график хода обучения\n",
        "import matplotlib.pyplot as plt\n",
        "history_dict = history.history\n",
        "acc_values = history_dict['accuracy']\n",
        "val_acc_values = history_dict['val_accuracy']\n",
        "epochs = range(1, len(acc_values) + 1)\n",
        "plt.plot(epochs, acc_values, 'r', label='Training acc')\n",
        "plt.plot(epochs, val_acc_values, 'b', label='Validation acc')\n",
        "plt.xlabel('Epochs')\n",
        "plt.ylabel('Accuracy')\n",
        "plt.legend()\n",
        "plt.show()"
      ],
      "metadata": {
        "colab": {
          "base_uri": "https://localhost:8080/",
          "height": 279
        },
        "id": "c7K0vNYagj3i",
        "outputId": "b4a8c01d-eb3a-4eba-94c6-d155f9ba1b53"
      },
      "execution_count": null,
      "outputs": [
        {
          "output_type": "display_data",
          "data": {
            "text/plain": [
              "<Figure size 432x288 with 1 Axes>"
            ],
            "image/png": "[encoded data removed]"
          },
          "metadata": {
            "needs_background": "light"
          }
        }
      ]
    },
    {
      "cell_type": "code",
      "source": [
        "# вычисляем f1 метрику для тестовой выборки\n",
        "from sklearn.metrics import f1_score\n",
        "pred = model.predict(new_X[4000:5934])\n",
        "trues = dummy_y[4000:5934]\n",
        "f1_score(np.argmax(trues, axis=1), np.argmax(pred, axis=1), average=None)"
      ],
      "metadata": {
        "colab": {
          "base_uri": "https://localhost:8080/"
        },
        "id": "OkBEosg2gpnt",
        "outputId": "81921ee6-7c04-43f2-be79-70e92d29445b"
      },
      "execution_count": null,
      "outputs": [
        {
          "output_type": "execute_result",
          "data": {
            "text/plain": [
              "array([0.88743169, 0.84485007, 0.86116984])"
            ]
          },
          "metadata": {},
          "execution_count": 51
        }
      ]
    },
    {
      "cell_type": "markdown",
      "source": [
        "**VGG16**"
      ],
      "metadata": {
        "id": "1du7W3lyf4e6"
      }
    },
    {
      "cell_type": "code",
      "execution_count": null,
      "metadata": {
        "id": "K54o_ZnRDn4c"
      },
      "outputs": [],
      "source": [
        "# Конфигурируем процесс обучения нейросети \n",
        "IMAGE_SIZE = [64, 64] \n",
        "BATCH_SIZE = 50\n",
        "EPOCHS = 200"
      ]
    },
    {
      "cell_type": "code",
      "execution_count": null,
      "metadata": {
        "id": "V2mGGiDID5g3",
        "colab": {
          "base_uri": "https://localhost:8080/"
        },
        "outputId": "451dde25-d409-48ac-f5f9-8dbcaf6bbc35"
      },
      "outputs": [
        {
          "output_type": "stream",
          "name": "stdout",
          "text": [
            "Downloading data from https://storage.googleapis.com/tensorflow/keras-applications/vgg16/vgg16_weights_tf_dim_ordering_tf_kernels_notop.h5\n",
            "58892288/58889256 [==============================] - 1s 0us/step\n",
            "58900480/58889256 [==============================] - 1s 0us/step\n"
          ]
        }
      ],
      "source": [
        "# импортируем все необходимые библиотеки\n",
        "from keras.layers import Input, Lambda, Dense, Flatten\n",
        "from keras.models import Model\n",
        "from keras.applications.vgg16 import VGG16 # импортируем VGG16\n",
        "from keras.applications.vgg16 import preprocess_input\n",
        "from keras.preprocessing import image\n",
        "from keras.preprocessing.image import ImageDataGenerator\n",
        "from keras.models import Sequential\n",
        "import numpy as np\n",
        "from keras.preprocessing.image import ImageDataGenerator\n",
        "num_classes = 3 # количество классов\n",
        "vgg = VGG16(input_shape = IMAGE_SIZE + [3], weights = 'imagenet', include_top = False)  # input_shape = (64,64,3) as required by VGG\n",
        "\n",
        "# создаем генерацию чекпоинтов на каждую эпоху\n",
        "checkpoint_path = \"training_1/cp.ckpt\"\n",
        "checkpoint_dir = os.path.dirname(checkpoint_path)\n",
        "cp_callback = tf.keras.callbacks.ModelCheckpoint(filepath=checkpoint_path,\n",
        "                                                 save_weights_only=True,\n",
        "                                                 verbose=1)\n",
        "\n",
        "# создаем полносвязанную сеть для классификатора\n",
        "x = Flatten()(vgg.output)\n",
        "x = Dense(num_classes, activation = 'softmax')(x)  \n",
        "model = Model(inputs = vgg.input, outputs = x)\n",
        "#добавлеем оптимизаторыы и функцию потерь\n",
        "model.compile(loss='categorical_crossentropy', optimizer='adam', metrics=['accuracy'])"
      ]
    },
    {
      "cell_type": "code",
      "execution_count": null,
      "metadata": {
        "colab": {
          "base_uri": "https://localhost:8080/"
        },
        "id": "UtEZkJamUu6-",
        "outputId": "7d551f20-afb9-49d7-9066-af126751a502"
      },
      "outputs": [
        {
          "output_type": "stream",
          "name": "stdout",
          "text": [
            "Epoch 1/200\n",
            "90/90 [==============================] - ETA: 0s - loss: 0.1994 - accuracy: 0.9004\n",
            "Epoch 1: saving model to training_1/cp.ckpt\n",
            "90/90 [==============================] - 7s 82ms/step - loss: 0.1994 - accuracy: 0.9004 - val_loss: 0.4863 - val_accuracy: 0.8222\n",
            "Epoch 2/200\n",
            "90/90 [==============================] - ETA: 0s - loss: 0.2113 - accuracy: 0.8958\n",
            "Epoch 2: saving model to training_1/cp.ckpt\n",
            "90/90 [==============================] - 7s 81ms/step - loss: 0.2113 - accuracy: 0.8958 - val_loss: 0.4753 - val_accuracy: 0.8600\n",
            "Epoch 3/200\n",
            "90/90 [==============================] - ETA: 0s - loss: 0.2045 - accuracy: 0.8962\n",
            "Epoch 3: saving model to training_1/cp.ckpt\n",
            "90/90 [==============================] - 8s 84ms/step - loss: 0.2045 - accuracy: 0.8962 - val_loss: 0.4213 - val_accuracy: 0.8522\n",
            "Epoch 4/200\n",
            "90/90 [==============================] - ETA: 0s - loss: 0.1953 - accuracy: 0.8987\n",
            "Epoch 4: saving model to training_1/cp.ckpt\n",
            "90/90 [==============================] - 8s 84ms/step - loss: 0.1953 - accuracy: 0.8987 - val_loss: 0.4658 - val_accuracy: 0.8556\n",
            "Epoch 5/200\n",
            "90/90 [==============================] - ETA: 0s - loss: 0.2157 - accuracy: 0.8924\n",
            "Epoch 5: saving model to training_1/cp.ckpt\n",
            "90/90 [==============================] - 8s 84ms/step - loss: 0.2157 - accuracy: 0.8924 - val_loss: 0.4030 - val_accuracy: 0.8656\n",
            "Epoch 6/200\n",
            "90/90 [==============================] - ETA: 0s - loss: 0.2927 - accuracy: 0.8729\n",
            "Epoch 6: saving model to training_1/cp.ckpt\n",
            "90/90 [==============================] - 7s 82ms/step - loss: 0.2927 - accuracy: 0.8729 - val_loss: 0.4189 - val_accuracy: 0.8411\n",
            "Epoch 7/200\n",
            "90/90 [==============================] - ETA: 0s - loss: 0.2135 - accuracy: 0.8984\n",
            "Epoch 7: saving model to training_1/cp.ckpt\n",
            "90/90 [==============================] - 8s 84ms/step - loss: 0.2135 - accuracy: 0.8984 - val_loss: 0.5145 - val_accuracy: 0.8289\n",
            "Epoch 8/200\n",
            "90/90 [==============================] - ETA: 0s - loss: 0.1988 - accuracy: 0.8929\n",
            "Epoch 8: saving model to training_1/cp.ckpt\n",
            "90/90 [==============================] - 7s 82ms/step - loss: 0.1988 - accuracy: 0.8929 - val_loss: 0.4058 - val_accuracy: 0.8656\n",
            "Epoch 9/200\n",
            "90/90 [==============================] - ETA: 0s - loss: 0.1703 - accuracy: 0.9091\n",
            "Epoch 9: saving model to training_1/cp.ckpt\n",
            "90/90 [==============================] - 7s 82ms/step - loss: 0.1703 - accuracy: 0.9091 - val_loss: 0.4707 - val_accuracy: 0.8578\n",
            "Epoch 10/200\n",
            "90/90 [==============================] - ETA: 0s - loss: 0.1838 - accuracy: 0.8991\n",
            "Epoch 10: saving model to training_1/cp.ckpt\n",
            "90/90 [==============================] - 8s 85ms/step - loss: 0.1838 - accuracy: 0.8991 - val_loss: 0.4320 - val_accuracy: 0.8611\n",
            "Epoch 11/200\n",
            "90/90 [==============================] - ETA: 0s - loss: 0.1758 - accuracy: 0.9058\n",
            "Epoch 11: saving model to training_1/cp.ckpt\n",
            "90/90 [==============================] - 8s 84ms/step - loss: 0.1758 - accuracy: 0.9058 - val_loss: 0.4002 - val_accuracy: 0.8589\n",
            "Epoch 12/200\n",
            "90/90 [==============================] - ETA: 0s - loss: 0.1912 - accuracy: 0.8958\n",
            "Epoch 12: saving model to training_1/cp.ckpt\n",
            "90/90 [==============================] - 7s 82ms/step - loss: 0.1912 - accuracy: 0.8958 - val_loss: 0.4257 - val_accuracy: 0.8767\n",
            "Epoch 13/200\n",
            "90/90 [==============================] - ETA: 0s - loss: 0.2335 - accuracy: 0.8927\n",
            "Epoch 13: saving model to training_1/cp.ckpt\n",
            "90/90 [==============================] - 7s 83ms/step - loss: 0.2335 - accuracy: 0.8927 - val_loss: 0.4402 - val_accuracy: 0.8356\n",
            "Epoch 14/200\n",
            "90/90 [==============================] - ETA: 0s - loss: 0.1896 - accuracy: 0.8989\n",
            "Epoch 14: saving model to training_1/cp.ckpt\n",
            "90/90 [==============================] - 8s 85ms/step - loss: 0.1896 - accuracy: 0.8989 - val_loss: 0.4681 - val_accuracy: 0.8600\n",
            "Epoch 15/200\n",
            "90/90 [==============================] - ETA: 0s - loss: 0.1963 - accuracy: 0.8989\n",
            "Epoch 15: saving model to training_1/cp.ckpt\n",
            "90/90 [==============================] - 7s 83ms/step - loss: 0.1963 - accuracy: 0.8989 - val_loss: 0.3612 - val_accuracy: 0.8611\n",
            "Epoch 16/200\n",
            "90/90 [==============================] - ETA: 0s - loss: 0.2007 - accuracy: 0.9009\n",
            "Epoch 16: saving model to training_1/cp.ckpt\n",
            "90/90 [==============================] - 7s 83ms/step - loss: 0.2007 - accuracy: 0.9009 - val_loss: 0.3953 - val_accuracy: 0.8556\n",
            "Epoch 17/200\n",
            "90/90 [==============================] - ETA: 0s - loss: 0.2047 - accuracy: 0.8949\n",
            "Epoch 17: saving model to training_1/cp.ckpt\n",
            "90/90 [==============================] - 8s 85ms/step - loss: 0.2047 - accuracy: 0.8949 - val_loss: 0.4216 - val_accuracy: 0.8611\n",
            "Epoch 18/200\n",
            "90/90 [==============================] - ETA: 0s - loss: 0.1899 - accuracy: 0.9009\n",
            "Epoch 18: saving model to training_1/cp.ckpt\n",
            "90/90 [==============================] - 7s 83ms/step - loss: 0.1899 - accuracy: 0.9009 - val_loss: 0.4282 - val_accuracy: 0.8489\n",
            "Epoch 19/200\n",
            "90/90 [==============================] - ETA: 0s - loss: 0.1879 - accuracy: 0.9004\n",
            "Epoch 19: saving model to training_1/cp.ckpt\n",
            "90/90 [==============================] - 7s 83ms/step - loss: 0.1879 - accuracy: 0.9004 - val_loss: 0.3903 - val_accuracy: 0.8689\n",
            "Epoch 20/200\n",
            "90/90 [==============================] - ETA: 0s - loss: 0.1617 - accuracy: 0.9107\n",
            "Epoch 20: saving model to training_1/cp.ckpt\n",
            "90/90 [==============================] - 7s 83ms/step - loss: 0.1617 - accuracy: 0.9107 - val_loss: 0.4122 - val_accuracy: 0.8722\n",
            "Epoch 21/200\n",
            "90/90 [==============================] - ETA: 0s - loss: 0.1596 - accuracy: 0.9104\n",
            "Epoch 21: saving model to training_1/cp.ckpt\n",
            "90/90 [==============================] - 7s 83ms/step - loss: 0.1596 - accuracy: 0.9104 - val_loss: 0.5251 - val_accuracy: 0.8811\n",
            "Epoch 22/200\n",
            "90/90 [==============================] - ETA: 0s - loss: 0.1662 - accuracy: 0.9124\n",
            "Epoch 22: saving model to training_1/cp.ckpt\n",
            "90/90 [==============================] - 7s 83ms/step - loss: 0.1662 - accuracy: 0.9124 - val_loss: 0.5194 - val_accuracy: 0.8756\n",
            "Epoch 23/200\n",
            "90/90 [==============================] - ETA: 0s - loss: 0.1738 - accuracy: 0.9082\n",
            "Epoch 23: saving model to training_1/cp.ckpt\n",
            "90/90 [==============================] - 8s 85ms/step - loss: 0.1738 - accuracy: 0.9082 - val_loss: 0.4336 - val_accuracy: 0.8744\n",
            "Epoch 24/200\n",
            "90/90 [==============================] - ETA: 0s - loss: 0.1644 - accuracy: 0.9051\n",
            "Epoch 24: saving model to training_1/cp.ckpt\n",
            "90/90 [==============================] - 8s 85ms/step - loss: 0.1644 - accuracy: 0.9051 - val_loss: 0.4730 - val_accuracy: 0.8778\n",
            "Epoch 25/200\n",
            "90/90 [==============================] - ETA: 0s - loss: 0.1996 - accuracy: 0.8951\n",
            "Epoch 25: saving model to training_1/cp.ckpt\n",
            "90/90 [==============================] - 8s 85ms/step - loss: 0.1996 - accuracy: 0.8951 - val_loss: 0.4287 - val_accuracy: 0.8700\n",
            "Epoch 26/200\n",
            "90/90 [==============================] - ETA: 0s - loss: 0.2010 - accuracy: 0.8969\n",
            "Epoch 26: saving model to training_1/cp.ckpt\n",
            "90/90 [==============================] - 8s 85ms/step - loss: 0.2010 - accuracy: 0.8969 - val_loss: 0.6059 - val_accuracy: 0.8222\n",
            "Epoch 27/200\n",
            "90/90 [==============================] - ETA: 0s - loss: 0.2050 - accuracy: 0.8953\n",
            "Epoch 27: saving model to training_1/cp.ckpt\n",
            "90/90 [==============================] - 7s 83ms/step - loss: 0.2050 - accuracy: 0.8953 - val_loss: 0.5409 - val_accuracy: 0.8611\n",
            "Epoch 28/200\n",
            "90/90 [==============================] - ETA: 0s - loss: 0.1896 - accuracy: 0.9000\n",
            "Epoch 28: saving model to training_1/cp.ckpt\n",
            "90/90 [==============================] - 8s 85ms/step - loss: 0.1896 - accuracy: 0.9000 - val_loss: 0.4131 - val_accuracy: 0.8622\n",
            "Epoch 29/200\n",
            "90/90 [==============================] - ETA: 0s - loss: 0.1870 - accuracy: 0.9042\n",
            "Epoch 29: saving model to training_1/cp.ckpt\n",
            "90/90 [==============================] - 7s 83ms/step - loss: 0.1870 - accuracy: 0.9042 - val_loss: 0.5142 - val_accuracy: 0.8411\n",
            "Epoch 30/200\n",
            "90/90 [==============================] - ETA: 0s - loss: 0.2146 - accuracy: 0.8907\n",
            "Epoch 30: saving model to training_1/cp.ckpt\n",
            "90/90 [==============================] - 7s 83ms/step - loss: 0.2146 - accuracy: 0.8907 - val_loss: 0.4023 - val_accuracy: 0.8633\n",
            "Epoch 31/200\n",
            "90/90 [==============================] - ETA: 0s - loss: 0.1876 - accuracy: 0.9013\n",
            "Epoch 31: saving model to training_1/cp.ckpt\n",
            "90/90 [==============================] - 7s 83ms/step - loss: 0.1876 - accuracy: 0.9013 - val_loss: 0.3997 - val_accuracy: 0.8667\n",
            "Epoch 32/200\n",
            "90/90 [==============================] - ETA: 0s - loss: 0.1698 - accuracy: 0.9076\n",
            "Epoch 32: saving model to training_1/cp.ckpt\n",
            "90/90 [==============================] - 7s 83ms/step - loss: 0.1698 - accuracy: 0.9076 - val_loss: 0.3793 - val_accuracy: 0.8789\n",
            "Epoch 33/200\n",
            "90/90 [==============================] - ETA: 0s - loss: 0.1687 - accuracy: 0.9080\n",
            "Epoch 33: saving model to training_1/cp.ckpt\n",
            "90/90 [==============================] - 8s 85ms/step - loss: 0.1687 - accuracy: 0.9080 - val_loss: 0.4439 - val_accuracy: 0.8611\n",
            "Epoch 34/200\n",
            "90/90 [==============================] - ETA: 0s - loss: 0.2069 - accuracy: 0.9011\n",
            "Epoch 34: saving model to training_1/cp.ckpt\n",
            "90/90 [==============================] - 7s 83ms/step - loss: 0.2069 - accuracy: 0.9011 - val_loss: 0.4753 - val_accuracy: 0.8522\n",
            "Epoch 35/200\n",
            "90/90 [==============================] - ETA: 0s - loss: 0.1905 - accuracy: 0.9002\n",
            "Epoch 35: saving model to training_1/cp.ckpt\n",
            "90/90 [==============================] - 8s 85ms/step - loss: 0.1905 - accuracy: 0.9002 - val_loss: 0.4272 - val_accuracy: 0.8667\n",
            "Epoch 36/200\n",
            "90/90 [==============================] - ETA: 0s - loss: 0.1697 - accuracy: 0.9087\n",
            "Epoch 36: saving model to training_1/cp.ckpt\n",
            "90/90 [==============================] - 7s 83ms/step - loss: 0.1697 - accuracy: 0.9087 - val_loss: 0.5892 - val_accuracy: 0.8533\n",
            "Epoch 37/200\n",
            "90/90 [==============================] - ETA: 0s - loss: 0.1941 - accuracy: 0.8978\n",
            "Epoch 37: saving model to training_1/cp.ckpt\n",
            "90/90 [==============================] - 7s 83ms/step - loss: 0.1941 - accuracy: 0.8978 - val_loss: 0.4683 - val_accuracy: 0.8422\n",
            "Epoch 38/200\n",
            "90/90 [==============================] - ETA: 0s - loss: 0.2193 - accuracy: 0.8918\n",
            "Epoch 38: saving model to training_1/cp.ckpt\n",
            "90/90 [==============================] - 8s 85ms/step - loss: 0.2193 - accuracy: 0.8918 - val_loss: 0.4516 - val_accuracy: 0.8500\n",
            "Epoch 39/200\n",
            "90/90 [==============================] - ETA: 0s - loss: 0.2071 - accuracy: 0.8993\n",
            "Epoch 39: saving model to training_1/cp.ckpt\n",
            "90/90 [==============================] - 7s 83ms/step - loss: 0.2071 - accuracy: 0.8993 - val_loss: 0.4267 - val_accuracy: 0.8533\n",
            "Epoch 40/200\n",
            "90/90 [==============================] - ETA: 0s - loss: 0.1908 - accuracy: 0.9036\n",
            "Epoch 40: saving model to training_1/cp.ckpt\n",
            "90/90 [==============================] - 7s 83ms/step - loss: 0.1908 - accuracy: 0.9036 - val_loss: 0.3713 - val_accuracy: 0.8678\n",
            "Epoch 41/200\n",
            "90/90 [==============================] - ETA: 0s - loss: 0.1862 - accuracy: 0.9042\n",
            "Epoch 41: saving model to training_1/cp.ckpt\n",
            "90/90 [==============================] - 7s 83ms/step - loss: 0.1862 - accuracy: 0.9042 - val_loss: 0.4902 - val_accuracy: 0.8711\n",
            "Epoch 42/200\n",
            "90/90 [==============================] - ETA: 0s - loss: 0.1730 - accuracy: 0.9038\n",
            "Epoch 42: saving model to training_1/cp.ckpt\n",
            "90/90 [==============================] - 7s 83ms/step - loss: 0.1730 - accuracy: 0.9038 - val_loss: 0.4880 - val_accuracy: 0.8711\n",
            "Epoch 43/200\n",
            "90/90 [==============================] - ETA: 0s - loss: 0.1624 - accuracy: 0.9062\n",
            "Epoch 43: saving model to training_1/cp.ckpt\n",
            "90/90 [==============================] - 8s 85ms/step - loss: 0.1624 - accuracy: 0.9062 - val_loss: 0.4427 - val_accuracy: 0.8733\n",
            "Epoch 44/200\n",
            "90/90 [==============================] - ETA: 0s - loss: 0.1634 - accuracy: 0.9098\n",
            "Epoch 44: saving model to training_1/cp.ckpt\n",
            "90/90 [==============================] - 8s 84ms/step - loss: 0.1634 - accuracy: 0.9098 - val_loss: 0.5311 - val_accuracy: 0.8700\n",
            "Epoch 45/200\n",
            "90/90 [==============================] - ETA: 0s - loss: 0.1654 - accuracy: 0.9100\n",
            "Epoch 45: saving model to training_1/cp.ckpt\n",
            "90/90 [==============================] - 7s 83ms/step - loss: 0.1654 - accuracy: 0.9100 - val_loss: 0.4829 - val_accuracy: 0.8700\n",
            "Epoch 46/200\n",
            "90/90 [==============================] - ETA: 0s - loss: 0.1703 - accuracy: 0.9058\n",
            "Epoch 46: saving model to training_1/cp.ckpt\n",
            "90/90 [==============================] - 7s 83ms/step - loss: 0.1703 - accuracy: 0.9058 - val_loss: 0.6896 - val_accuracy: 0.8633\n",
            "Epoch 47/200\n",
            "90/90 [==============================] - ETA: 0s - loss: 0.2119 - accuracy: 0.8933\n",
            "Epoch 47: saving model to training_1/cp.ckpt\n",
            "90/90 [==============================] - 7s 83ms/step - loss: 0.2119 - accuracy: 0.8933 - val_loss: 0.5548 - val_accuracy: 0.8633\n",
            "Epoch 48/200\n",
            "90/90 [==============================] - ETA: 0s - loss: 0.2078 - accuracy: 0.8907\n",
            "Epoch 48: saving model to training_1/cp.ckpt\n",
            "90/90 [==============================] - 8s 85ms/step - loss: 0.2078 - accuracy: 0.8907 - val_loss: 0.3990 - val_accuracy: 0.8722\n",
            "Epoch 49/200\n",
            "90/90 [==============================] - ETA: 0s - loss: 0.1645 - accuracy: 0.9073\n",
            "Epoch 49: saving model to training_1/cp.ckpt\n",
            "90/90 [==============================] - 8s 85ms/step - loss: 0.1645 - accuracy: 0.9073 - val_loss: 0.6190 - val_accuracy: 0.8600\n",
            "Epoch 50/200\n",
            "90/90 [==============================] - ETA: 0s - loss: 0.1658 - accuracy: 0.9073\n",
            "Epoch 50: saving model to training_1/cp.ckpt\n",
            "90/90 [==============================] - 7s 83ms/step - loss: 0.1658 - accuracy: 0.9073 - val_loss: 0.5302 - val_accuracy: 0.8767\n",
            "Epoch 51/200\n",
            "90/90 [==============================] - ETA: 0s - loss: 0.1709 - accuracy: 0.9062\n",
            "Epoch 51: saving model to training_1/cp.ckpt\n",
            "90/90 [==============================] - 8s 85ms/step - loss: 0.1709 - accuracy: 0.9062 - val_loss: 0.4826 - val_accuracy: 0.8589\n",
            "Epoch 52/200\n",
            "90/90 [==============================] - ETA: 0s - loss: 0.1872 - accuracy: 0.9018\n",
            "Epoch 52: saving model to training_1/cp.ckpt\n",
            "90/90 [==============================] - 8s 85ms/step - loss: 0.1872 - accuracy: 0.9018 - val_loss: 0.4957 - val_accuracy: 0.8556\n",
            "Epoch 53/200\n",
            "90/90 [==============================] - ETA: 0s - loss: 0.1664 - accuracy: 0.9082\n",
            "Epoch 53: saving model to training_1/cp.ckpt\n",
            "90/90 [==============================] - 7s 83ms/step - loss: 0.1664 - accuracy: 0.9082 - val_loss: 0.4849 - val_accuracy: 0.8667\n",
            "Epoch 54/200\n",
            "90/90 [==============================] - ETA: 0s - loss: 0.1574 - accuracy: 0.9120\n",
            "Epoch 54: saving model to training_1/cp.ckpt\n",
            "90/90 [==============================] - 7s 83ms/step - loss: 0.1574 - accuracy: 0.9120 - val_loss: 0.6595 - val_accuracy: 0.8700\n",
            "Epoch 55/200\n",
            "90/90 [==============================] - ETA: 0s - loss: 0.1560 - accuracy: 0.9122\n",
            "Epoch 55: saving model to training_1/cp.ckpt\n",
            "90/90 [==============================] - 7s 83ms/step - loss: 0.1560 - accuracy: 0.9122 - val_loss: 0.7287 - val_accuracy: 0.8689\n",
            "Epoch 56/200\n",
            "90/90 [==============================] - ETA: 0s - loss: 0.1560 - accuracy: 0.9111\n",
            "Epoch 56: saving model to training_1/cp.ckpt\n",
            "90/90 [==============================] - 8s 85ms/step - loss: 0.1560 - accuracy: 0.9111 - val_loss: 0.7515 - val_accuracy: 0.8689\n",
            "Epoch 57/200\n",
            "90/90 [==============================] - ETA: 0s - loss: 0.1558 - accuracy: 0.9118\n",
            "Epoch 57: saving model to training_1/cp.ckpt\n",
            "90/90 [==============================] - 8s 85ms/step - loss: 0.1558 - accuracy: 0.9118 - val_loss: 0.7770 - val_accuracy: 0.8678\n",
            "Epoch 58/200\n",
            "90/90 [==============================] - ETA: 0s - loss: 0.1559 - accuracy: 0.9111\n",
            "Epoch 58: saving model to training_1/cp.ckpt\n",
            "90/90 [==============================] - 8s 85ms/step - loss: 0.1559 - accuracy: 0.9111 - val_loss: 0.8124 - val_accuracy: 0.8667\n",
            "Epoch 59/200\n",
            "90/90 [==============================] - ETA: 0s - loss: 0.1560 - accuracy: 0.9116\n",
            "Epoch 59: saving model to training_1/cp.ckpt\n",
            "90/90 [==============================] - 8s 85ms/step - loss: 0.1560 - accuracy: 0.9116 - val_loss: 0.8005 - val_accuracy: 0.8589\n",
            "Epoch 60/200\n",
            "90/90 [==============================] - ETA: 0s - loss: 0.1560 - accuracy: 0.9118\n",
            "Epoch 60: saving model to training_1/cp.ckpt\n",
            "90/90 [==============================] - 8s 85ms/step - loss: 0.1560 - accuracy: 0.9118 - val_loss: 0.8171 - val_accuracy: 0.8589\n",
            "Epoch 61/200\n",
            "90/90 [==============================] - ETA: 0s - loss: 0.1554 - accuracy: 0.9111\n",
            "Epoch 61: saving model to training_1/cp.ckpt\n",
            "90/90 [==============================] - 8s 85ms/step - loss: 0.1554 - accuracy: 0.9111 - val_loss: 0.8352 - val_accuracy: 0.8678\n",
            "Epoch 62/200\n",
            "90/90 [==============================] - ETA: 0s - loss: 0.1557 - accuracy: 0.9116\n",
            "Epoch 62: saving model to training_1/cp.ckpt\n",
            "90/90 [==============================] - 8s 85ms/step - loss: 0.1557 - accuracy: 0.9116 - val_loss: 0.8610 - val_accuracy: 0.8689\n",
            "Epoch 63/200\n",
            "90/90 [==============================] - ETA: 0s - loss: 0.1559 - accuracy: 0.9111\n",
            "Epoch 63: saving model to training_1/cp.ckpt\n",
            "90/90 [==============================] - 8s 86ms/step - loss: 0.1559 - accuracy: 0.9111 - val_loss: 0.8802 - val_accuracy: 0.8689\n",
            "Epoch 64/200\n",
            "90/90 [==============================] - ETA: 0s - loss: 0.1555 - accuracy: 0.9093\n",
            "Epoch 64: saving model to training_1/cp.ckpt\n",
            "90/90 [==============================] - 8s 85ms/step - loss: 0.1555 - accuracy: 0.9093 - val_loss: 0.8888 - val_accuracy: 0.8678\n",
            "Epoch 65/200\n",
            "90/90 [==============================] - ETA: 0s - loss: 0.1561 - accuracy: 0.9080\n",
            "Epoch 65: saving model to training_1/cp.ckpt\n",
            "90/90 [==============================] - 8s 85ms/step - loss: 0.1561 - accuracy: 0.9080 - val_loss: 0.8814 - val_accuracy: 0.8667\n",
            "Epoch 66/200\n",
            "90/90 [==============================] - ETA: 0s - loss: 0.1556 - accuracy: 0.9136\n",
            "Epoch 66: saving model to training_1/cp.ckpt\n",
            "90/90 [==============================] - 8s 85ms/step - loss: 0.1556 - accuracy: 0.9136 - val_loss: 0.8996 - val_accuracy: 0.8678\n",
            "Epoch 67/200\n",
            "90/90 [==============================] - ETA: 0s - loss: 0.1561 - accuracy: 0.9073\n",
            "Epoch 67: saving model to training_1/cp.ckpt\n",
            "90/90 [==============================] - 7s 83ms/step - loss: 0.1561 - accuracy: 0.9073 - val_loss: 0.9100 - val_accuracy: 0.8667\n",
            "Epoch 68/200\n",
            "90/90 [==============================] - ETA: 0s - loss: 0.1556 - accuracy: 0.9111\n",
            "Epoch 68: saving model to training_1/cp.ckpt\n",
            "90/90 [==============================] - 7s 83ms/step - loss: 0.1556 - accuracy: 0.9111 - val_loss: 0.9289 - val_accuracy: 0.8678\n",
            "Epoch 69/200\n",
            "90/90 [==============================] - ETA: 0s - loss: 0.1554 - accuracy: 0.9113\n",
            "Epoch 69: saving model to training_1/cp.ckpt\n",
            "90/90 [==============================] - 7s 83ms/step - loss: 0.1554 - accuracy: 0.9113 - val_loss: 0.9423 - val_accuracy: 0.8689\n",
            "Epoch 70/200\n",
            "90/90 [==============================] - ETA: 0s - loss: 0.1559 - accuracy: 0.9096\n",
            "Epoch 70: saving model to training_1/cp.ckpt\n",
            "90/90 [==============================] - 8s 85ms/step - loss: 0.1559 - accuracy: 0.9096 - val_loss: 0.9486 - val_accuracy: 0.8689\n",
            "Epoch 71/200\n",
            "90/90 [==============================] - ETA: 0s - loss: 0.1559 - accuracy: 0.9136\n",
            "Epoch 71: saving model to training_1/cp.ckpt\n",
            "90/90 [==============================] - 8s 85ms/step - loss: 0.1559 - accuracy: 0.9136 - val_loss: 0.9657 - val_accuracy: 0.8689\n",
            "Epoch 72/200\n",
            "90/90 [==============================] - ETA: 0s - loss: 0.1554 - accuracy: 0.9129\n",
            "Epoch 72: saving model to training_1/cp.ckpt\n",
            "90/90 [==============================] - 8s 85ms/step - loss: 0.1554 - accuracy: 0.9129 - val_loss: 0.9858 - val_accuracy: 0.8600\n",
            "Epoch 73/200\n",
            "90/90 [==============================] - ETA: 0s - loss: 0.1555 - accuracy: 0.9147\n",
            "Epoch 73: saving model to training_1/cp.ckpt\n",
            "90/90 [==============================] - 8s 86ms/step - loss: 0.1555 - accuracy: 0.9147 - val_loss: 0.9815 - val_accuracy: 0.8678\n",
            "Epoch 74/200\n",
            "90/90 [==============================] - ETA: 0s - loss: 0.1560 - accuracy: 0.9116\n",
            "Epoch 74: saving model to training_1/cp.ckpt\n",
            "90/90 [==============================] - 7s 83ms/step - loss: 0.1560 - accuracy: 0.9116 - val_loss: 1.0048 - val_accuracy: 0.8589\n",
            "Epoch 75/200\n",
            "90/90 [==============================] - ETA: 0s - loss: 0.1557 - accuracy: 0.9127\n",
            "Epoch 75: saving model to training_1/cp.ckpt\n",
            "90/90 [==============================] - 8s 85ms/step - loss: 0.1557 - accuracy: 0.9127 - val_loss: 0.9976 - val_accuracy: 0.8678\n",
            "Epoch 76/200\n",
            "90/90 [==============================] - ETA: 0s - loss: 0.1556 - accuracy: 0.9136\n",
            "Epoch 76: saving model to training_1/cp.ckpt\n",
            "90/90 [==============================] - 8s 85ms/step - loss: 0.1556 - accuracy: 0.9136 - val_loss: 1.0099 - val_accuracy: 0.8678\n",
            "Epoch 77/200\n",
            "90/90 [==============================] - ETA: 0s - loss: 0.1557 - accuracy: 0.9089\n",
            "Epoch 77: saving model to training_1/cp.ckpt\n",
            "90/90 [==============================] - 7s 83ms/step - loss: 0.1557 - accuracy: 0.9089 - val_loss: 1.0197 - val_accuracy: 0.8678\n",
            "Epoch 78/200\n",
            "90/90 [==============================] - ETA: 0s - loss: 0.1556 - accuracy: 0.9122\n",
            "Epoch 78: saving model to training_1/cp.ckpt\n",
            "90/90 [==============================] - 7s 83ms/step - loss: 0.1556 - accuracy: 0.9122 - val_loss: 1.0324 - val_accuracy: 0.8678\n",
            "Epoch 79/200\n",
            "90/90 [==============================] - ETA: 0s - loss: 0.1560 - accuracy: 0.9136\n",
            "Epoch 79: saving model to training_1/cp.ckpt\n",
            "90/90 [==============================] - 8s 85ms/step - loss: 0.1560 - accuracy: 0.9136 - val_loss: 1.0460 - val_accuracy: 0.8678\n",
            "Epoch 80/200\n",
            "90/90 [==============================] - ETA: 0s - loss: 0.1555 - accuracy: 0.9136\n",
            "Epoch 80: saving model to training_1/cp.ckpt\n",
            "90/90 [==============================] - 8s 86ms/step - loss: 0.1555 - accuracy: 0.9136 - val_loss: 1.0556 - val_accuracy: 0.8678\n",
            "Epoch 81/200\n",
            "90/90 [==============================] - ETA: 0s - loss: 0.1554 - accuracy: 0.9136\n",
            "Epoch 81: saving model to training_1/cp.ckpt\n",
            "90/90 [==============================] - 8s 84ms/step - loss: 0.1554 - accuracy: 0.9136 - val_loss: 1.0657 - val_accuracy: 0.8678\n",
            "Epoch 82/200\n",
            "90/90 [==============================] - ETA: 0s - loss: 0.1556 - accuracy: 0.9107\n",
            "Epoch 82: saving model to training_1/cp.ckpt\n",
            "90/90 [==============================] - 7s 83ms/step - loss: 0.1556 - accuracy: 0.9107 - val_loss: 1.0776 - val_accuracy: 0.8678\n",
            "Epoch 83/200\n",
            "90/90 [==============================] - ETA: 0s - loss: 0.1560 - accuracy: 0.9120\n",
            "Epoch 83: saving model to training_1/cp.ckpt\n",
            "90/90 [==============================] - 8s 86ms/step - loss: 0.1560 - accuracy: 0.9120 - val_loss: 1.0763 - val_accuracy: 0.8667\n",
            "Epoch 84/200\n",
            "90/90 [==============================] - ETA: 0s - loss: 0.1559 - accuracy: 0.9104\n",
            "Epoch 84: saving model to training_1/cp.ckpt\n",
            "90/90 [==============================] - 8s 85ms/step - loss: 0.1559 - accuracy: 0.9104 - val_loss: 1.0791 - val_accuracy: 0.8678\n",
            "Epoch 85/200\n",
            "90/90 [==============================] - ETA: 0s - loss: 0.1555 - accuracy: 0.9107\n",
            "Epoch 85: saving model to training_1/cp.ckpt\n",
            "90/90 [==============================] - 8s 85ms/step - loss: 0.1555 - accuracy: 0.9107 - val_loss: 1.1003 - val_accuracy: 0.8667\n",
            "Epoch 86/200\n",
            "90/90 [==============================] - ETA: 0s - loss: 0.1558 - accuracy: 0.9136\n",
            "Epoch 86: saving model to training_1/cp.ckpt\n",
            "90/90 [==============================] - 7s 83ms/step - loss: 0.1558 - accuracy: 0.9136 - val_loss: 1.0803 - val_accuracy: 0.8678\n",
            "Epoch 87/200\n",
            "90/90 [==============================] - ETA: 0s - loss: 0.1559 - accuracy: 0.9131\n",
            "Epoch 87: saving model to training_1/cp.ckpt\n",
            "90/90 [==============================] - 8s 85ms/step - loss: 0.1559 - accuracy: 0.9131 - val_loss: 1.1162 - val_accuracy: 0.8667\n",
            "Epoch 88/200\n",
            "90/90 [==============================] - ETA: 0s - loss: 0.1559 - accuracy: 0.9136\n",
            "Epoch 88: saving model to training_1/cp.ckpt\n",
            "90/90 [==============================] - 7s 83ms/step - loss: 0.1559 - accuracy: 0.9136 - val_loss: 1.1262 - val_accuracy: 0.8667\n",
            "Epoch 89/200\n",
            "90/90 [==============================] - ETA: 0s - loss: 0.1557 - accuracy: 0.9076\n",
            "Epoch 89: saving model to training_1/cp.ckpt\n",
            "90/90 [==============================] - 8s 86ms/step - loss: 0.1557 - accuracy: 0.9076 - val_loss: 1.1252 - val_accuracy: 0.8667\n",
            "Epoch 90/200\n",
            "90/90 [==============================] - ETA: 0s - loss: 0.1555 - accuracy: 0.9104\n",
            "Epoch 90: saving model to training_1/cp.ckpt\n",
            "90/90 [==============================] - 8s 84ms/step - loss: 0.1555 - accuracy: 0.9104 - val_loss: 1.1074 - val_accuracy: 0.8667\n",
            "Epoch 91/200\n",
            "90/90 [==============================] - ETA: 0s - loss: 0.1555 - accuracy: 0.9120\n",
            "Epoch 91: saving model to training_1/cp.ckpt\n",
            "90/90 [==============================] - 8s 84ms/step - loss: 0.1555 - accuracy: 0.9120 - val_loss: 1.1301 - val_accuracy: 0.8667\n",
            "Epoch 92/200\n",
            "90/90 [==============================] - ETA: 0s - loss: 0.1556 - accuracy: 0.9104\n",
            "Epoch 92: saving model to training_1/cp.ckpt\n",
            "90/90 [==============================] - 8s 86ms/step - loss: 0.1556 - accuracy: 0.9104 - val_loss: 1.1601 - val_accuracy: 0.8667\n",
            "Epoch 93/200\n",
            "90/90 [==============================] - ETA: 0s - loss: 0.1556 - accuracy: 0.9136\n",
            "Epoch 93: saving model to training_1/cp.ckpt\n",
            "90/90 [==============================] - 8s 84ms/step - loss: 0.1556 - accuracy: 0.9136 - val_loss: 1.1714 - val_accuracy: 0.8667\n",
            "Epoch 94/200\n",
            "90/90 [==============================] - ETA: 0s - loss: 0.1558 - accuracy: 0.9102\n",
            "Epoch 94: saving model to training_1/cp.ckpt\n",
            "90/90 [==============================] - 8s 84ms/step - loss: 0.1558 - accuracy: 0.9102 - val_loss: 1.1769 - val_accuracy: 0.8667\n",
            "Epoch 95/200\n",
            "90/90 [==============================] - ETA: 0s - loss: 0.1558 - accuracy: 0.9118\n",
            "Epoch 95: saving model to training_1/cp.ckpt\n",
            "90/90 [==============================] - 8s 85ms/step - loss: 0.1558 - accuracy: 0.9118 - val_loss: 1.2116 - val_accuracy: 0.8667\n",
            "Epoch 96/200\n",
            "90/90 [==============================] - ETA: 0s - loss: 0.1558 - accuracy: 0.9136\n",
            "Epoch 96: saving model to training_1/cp.ckpt\n",
            "90/90 [==============================] - 8s 86ms/step - loss: 0.1558 - accuracy: 0.9136 - val_loss: 1.1905 - val_accuracy: 0.8667\n",
            "Epoch 97/200\n",
            "90/90 [==============================] - ETA: 0s - loss: 0.1556 - accuracy: 0.9136\n",
            "Epoch 97: saving model to training_1/cp.ckpt\n",
            "90/90 [==============================] - 8s 86ms/step - loss: 0.1556 - accuracy: 0.9136 - val_loss: 1.1949 - val_accuracy: 0.8656\n",
            "Epoch 98/200\n",
            "90/90 [==============================] - ETA: 0s - loss: 0.1556 - accuracy: 0.9136\n",
            "Epoch 98: saving model to training_1/cp.ckpt\n",
            "90/90 [==============================] - 8s 84ms/step - loss: 0.1556 - accuracy: 0.9136 - val_loss: 1.2035 - val_accuracy: 0.8644\n",
            "Epoch 99/200\n",
            "90/90 [==============================] - ETA: 0s - loss: 0.1556 - accuracy: 0.9136\n",
            "Epoch 99: saving model to training_1/cp.ckpt\n",
            "90/90 [==============================] - 8s 84ms/step - loss: 0.1556 - accuracy: 0.9136 - val_loss: 1.2088 - val_accuracy: 0.8644\n",
            "Epoch 100/200\n",
            "90/90 [==============================] - ETA: 0s - loss: 0.1557 - accuracy: 0.9098\n",
            "Epoch 100: saving model to training_1/cp.ckpt\n",
            "90/90 [==============================] - 8s 87ms/step - loss: 0.1557 - accuracy: 0.9098 - val_loss: 1.2275 - val_accuracy: 0.8556\n",
            "Epoch 101/200\n",
            "90/90 [==============================] - ETA: 0s - loss: 0.1556 - accuracy: 0.9096\n",
            "Epoch 101: saving model to training_1/cp.ckpt\n",
            "90/90 [==============================] - 8s 84ms/step - loss: 0.1556 - accuracy: 0.9096 - val_loss: 1.2474 - val_accuracy: 0.8656\n",
            "Epoch 102/200\n",
            "90/90 [==============================] - ETA: 0s - loss: 0.1558 - accuracy: 0.9136\n",
            "Epoch 102: saving model to training_1/cp.ckpt\n",
            "90/90 [==============================] - 8s 84ms/step - loss: 0.1558 - accuracy: 0.9136 - val_loss: 1.2561 - val_accuracy: 0.8656\n",
            "Epoch 103/200\n",
            "90/90 [==============================] - ETA: 0s - loss: 0.1554 - accuracy: 0.9124\n",
            "Epoch 103: saving model to training_1/cp.ckpt\n",
            "90/90 [==============================] - 7s 83ms/step - loss: 0.1554 - accuracy: 0.9124 - val_loss: 1.2631 - val_accuracy: 0.8656\n",
            "Epoch 104/200\n",
            "90/90 [==============================] - ETA: 0s - loss: 0.1559 - accuracy: 0.9098\n",
            "Epoch 104: saving model to training_1/cp.ckpt\n",
            "90/90 [==============================] - 8s 84ms/step - loss: 0.1559 - accuracy: 0.9098 - val_loss: 1.2654 - val_accuracy: 0.8644\n",
            "Epoch 105/200\n",
            "90/90 [==============================] - ETA: 0s - loss: 0.1556 - accuracy: 0.9136\n",
            "Epoch 105: saving model to training_1/cp.ckpt\n",
            "90/90 [==============================] - 8s 86ms/step - loss: 0.1556 - accuracy: 0.9136 - val_loss: 1.2889 - val_accuracy: 0.8656\n",
            "Epoch 106/200\n",
            "90/90 [==============================] - ETA: 0s - loss: 0.1563 - accuracy: 0.9122\n",
            "Epoch 106: saving model to training_1/cp.ckpt\n",
            "90/90 [==============================] - 8s 86ms/step - loss: 0.1563 - accuracy: 0.9122 - val_loss: 1.2658 - val_accuracy: 0.8656\n",
            "Epoch 107/200\n",
            "90/90 [==============================] - ETA: 0s - loss: 0.1556 - accuracy: 0.9120\n",
            "Epoch 107: saving model to training_1/cp.ckpt\n",
            "90/90 [==============================] - 8s 87ms/step - loss: 0.1556 - accuracy: 0.9120 - val_loss: 1.2832 - val_accuracy: 0.8656\n",
            "Epoch 108/200\n",
            "90/90 [==============================] - ETA: 0s - loss: 0.1558 - accuracy: 0.9096\n",
            "Epoch 108: saving model to training_1/cp.ckpt\n",
            "90/90 [==============================] - 8s 87ms/step - loss: 0.1558 - accuracy: 0.9096 - val_loss: 1.2830 - val_accuracy: 0.8567\n",
            "Epoch 109/200\n",
            "90/90 [==============================] - ETA: 0s - loss: 0.1558 - accuracy: 0.9087\n",
            "Epoch 109: saving model to training_1/cp.ckpt\n",
            "90/90 [==============================] - 8s 84ms/step - loss: 0.1558 - accuracy: 0.9087 - val_loss: 1.3190 - val_accuracy: 0.8667\n",
            "Epoch 110/200\n",
            "90/90 [==============================] - ETA: 0s - loss: 0.1555 - accuracy: 0.9127\n",
            "Epoch 110: saving model to training_1/cp.ckpt\n",
            "90/90 [==============================] - 8s 84ms/step - loss: 0.1555 - accuracy: 0.9127 - val_loss: 1.3189 - val_accuracy: 0.8656\n",
            "Epoch 111/200\n",
            "90/90 [==============================] - ETA: 0s - loss: 0.1555 - accuracy: 0.9089\n",
            "Epoch 111: saving model to training_1/cp.ckpt\n",
            "90/90 [==============================] - 8s 86ms/step - loss: 0.1555 - accuracy: 0.9089 - val_loss: 1.3013 - val_accuracy: 0.8656\n",
            "Epoch 112/200\n",
            "90/90 [==============================] - ETA: 0s - loss: 0.1555 - accuracy: 0.9136\n",
            "Epoch 112: saving model to training_1/cp.ckpt\n",
            "90/90 [==============================] - 8s 84ms/step - loss: 0.1555 - accuracy: 0.9136 - val_loss: 1.3022 - val_accuracy: 0.8656\n",
            "Epoch 113/200\n",
            "90/90 [==============================] - ETA: 0s - loss: 0.1556 - accuracy: 0.9136\n",
            "Epoch 113: saving model to training_1/cp.ckpt\n",
            "90/90 [==============================] - 8s 84ms/step - loss: 0.1556 - accuracy: 0.9136 - val_loss: 1.3576 - val_accuracy: 0.8656\n",
            "Epoch 114/200\n",
            "90/90 [==============================] - ETA: 0s - loss: 0.1558 - accuracy: 0.9118\n",
            "Epoch 114: saving model to training_1/cp.ckpt\n",
            "90/90 [==============================] - 7s 83ms/step - loss: 0.1558 - accuracy: 0.9118 - val_loss: 1.3705 - val_accuracy: 0.8667\n",
            "Epoch 115/200\n",
            "90/90 [==============================] - ETA: 0s - loss: 0.1554 - accuracy: 0.9136\n",
            "Epoch 115: saving model to training_1/cp.ckpt\n",
            "90/90 [==============================] - 8s 86ms/step - loss: 0.1554 - accuracy: 0.9136 - val_loss: 1.3585 - val_accuracy: 0.8656\n",
            "Epoch 116/200\n",
            "90/90 [==============================] - ETA: 0s - loss: 0.1555 - accuracy: 0.9087\n",
            "Epoch 116: saving model to training_1/cp.ckpt\n",
            "90/90 [==============================] - 8s 86ms/step - loss: 0.1555 - accuracy: 0.9087 - val_loss: 1.3625 - val_accuracy: 0.8656\n",
            "Epoch 117/200\n",
            "90/90 [==============================] - ETA: 0s - loss: 0.1554 - accuracy: 0.9136\n",
            "Epoch 117: saving model to training_1/cp.ckpt\n",
            "90/90 [==============================] - 8s 86ms/step - loss: 0.1554 - accuracy: 0.9136 - val_loss: 1.3754 - val_accuracy: 0.8656\n",
            "Epoch 118/200\n",
            "90/90 [==============================] - ETA: 0s - loss: 0.1557 - accuracy: 0.9069\n",
            "Epoch 118: saving model to training_1/cp.ckpt\n",
            "90/90 [==============================] - 8s 85ms/step - loss: 0.1557 - accuracy: 0.9069 - val_loss: 1.3739 - val_accuracy: 0.8656\n",
            "Epoch 119/200\n",
            "90/90 [==============================] - ETA: 0s - loss: 0.1554 - accuracy: 0.9136\n",
            "Epoch 119: saving model to training_1/cp.ckpt\n",
            "90/90 [==============================] - 8s 86ms/step - loss: 0.1554 - accuracy: 0.9136 - val_loss: 1.3738 - val_accuracy: 0.8656\n",
            "Epoch 120/200\n",
            "90/90 [==============================] - ETA: 0s - loss: 0.1555 - accuracy: 0.9136\n",
            "Epoch 120: saving model to training_1/cp.ckpt\n",
            "90/90 [==============================] - 8s 86ms/step - loss: 0.1555 - accuracy: 0.9136 - val_loss: 1.3655 - val_accuracy: 0.8656\n",
            "Epoch 121/200\n",
            "90/90 [==============================] - ETA: 0s - loss: 0.1556 - accuracy: 0.9136\n",
            "Epoch 121: saving model to training_1/cp.ckpt\n",
            "90/90 [==============================] - 8s 85ms/step - loss: 0.1556 - accuracy: 0.9136 - val_loss: 1.3950 - val_accuracy: 0.8667\n",
            "Epoch 122/200\n",
            "90/90 [==============================] - ETA: 0s - loss: 0.1554 - accuracy: 0.9136\n",
            "Epoch 122: saving model to training_1/cp.ckpt\n",
            "90/90 [==============================] - 8s 84ms/step - loss: 0.1554 - accuracy: 0.9136 - val_loss: 1.4058 - val_accuracy: 0.8656\n",
            "Epoch 123/200\n",
            "90/90 [==============================] - ETA: 0s - loss: 0.1557 - accuracy: 0.9113\n",
            "Epoch 123: saving model to training_1/cp.ckpt\n",
            "90/90 [==============================] - 8s 86ms/step - loss: 0.1557 - accuracy: 0.9113 - val_loss: 1.3961 - val_accuracy: 0.8656\n",
            "Epoch 124/200\n",
            "90/90 [==============================] - ETA: 0s - loss: 0.1556 - accuracy: 0.9136\n",
            "Epoch 124: saving model to training_1/cp.ckpt\n",
            "90/90 [==============================] - 8s 84ms/step - loss: 0.1556 - accuracy: 0.9136 - val_loss: 1.4012 - val_accuracy: 0.8656\n",
            "Epoch 125/200\n",
            "90/90 [==============================] - ETA: 0s - loss: 0.1555 - accuracy: 0.9136\n",
            "Epoch 125: saving model to training_1/cp.ckpt\n",
            "90/90 [==============================] - 8s 84ms/step - loss: 0.1555 - accuracy: 0.9136 - val_loss: 1.4075 - val_accuracy: 0.8656\n",
            "Epoch 126/200\n",
            "90/90 [==============================] - ETA: 0s - loss: 0.1555 - accuracy: 0.9120\n",
            "Epoch 126: saving model to training_1/cp.ckpt\n",
            "90/90 [==============================] - 8s 85ms/step - loss: 0.1555 - accuracy: 0.9120 - val_loss: 1.4123 - val_accuracy: 0.8656\n",
            "Epoch 127/200\n",
            "90/90 [==============================] - ETA: 0s - loss: 0.1554 - accuracy: 0.9136\n",
            "Epoch 127: saving model to training_1/cp.ckpt\n",
            "90/90 [==============================] - 8s 86ms/step - loss: 0.1554 - accuracy: 0.9136 - val_loss: 1.4144 - val_accuracy: 0.8656\n",
            "Epoch 128/200\n",
            "90/90 [==============================] - ETA: 0s - loss: 0.1555 - accuracy: 0.9118\n",
            "Epoch 128: saving model to training_1/cp.ckpt\n",
            "90/90 [==============================] - 8s 85ms/step - loss: 0.1555 - accuracy: 0.9118 - val_loss: 1.4338 - val_accuracy: 0.8656\n",
            "Epoch 129/200\n",
            "90/90 [==============================] - ETA: 0s - loss: 0.1556 - accuracy: 0.9136\n",
            "Epoch 129: saving model to training_1/cp.ckpt\n",
            "90/90 [==============================] - 8s 84ms/step - loss: 0.1556 - accuracy: 0.9136 - val_loss: 1.3487 - val_accuracy: 0.8656\n",
            "Epoch 130/200\n",
            "90/90 [==============================] - ETA: 0s - loss: 0.1555 - accuracy: 0.9098\n",
            "Epoch 130: saving model to training_1/cp.ckpt\n",
            "90/90 [==============================] - 8s 86ms/step - loss: 0.1555 - accuracy: 0.9098 - val_loss: 1.3560 - val_accuracy: 0.8656\n",
            "Epoch 131/200\n",
            "90/90 [==============================] - ETA: 0s - loss: 0.1554 - accuracy: 0.9136\n",
            "Epoch 131: saving model to training_1/cp.ckpt\n",
            "90/90 [==============================] - 8s 84ms/step - loss: 0.1554 - accuracy: 0.9136 - val_loss: 1.3642 - val_accuracy: 0.8656\n",
            "Epoch 132/200\n",
            "90/90 [==============================] - ETA: 0s - loss: 0.1554 - accuracy: 0.9084\n",
            "Epoch 132: saving model to training_1/cp.ckpt\n",
            "90/90 [==============================] - 8s 84ms/step - loss: 0.1554 - accuracy: 0.9084 - val_loss: 1.3684 - val_accuracy: 0.8656\n",
            "Epoch 133/200\n",
            "90/90 [==============================] - ETA: 0s - loss: 0.1561 - accuracy: 0.9120\n",
            "Epoch 133: saving model to training_1/cp.ckpt\n",
            "90/90 [==============================] - 8s 86ms/step - loss: 0.1561 - accuracy: 0.9120 - val_loss: 1.3423 - val_accuracy: 0.8656\n",
            "Epoch 134/200\n",
            "90/90 [==============================] - ETA: 0s - loss: 0.1554 - accuracy: 0.9136\n",
            "Epoch 134: saving model to training_1/cp.ckpt\n",
            "90/90 [==============================] - 8s 86ms/step - loss: 0.1554 - accuracy: 0.9136 - val_loss: 1.3281 - val_accuracy: 0.8656\n",
            "Epoch 135/200\n",
            "90/90 [==============================] - ETA: 0s - loss: 0.1557 - accuracy: 0.9049\n",
            "Epoch 135: saving model to training_1/cp.ckpt\n",
            "90/90 [==============================] - 8s 84ms/step - loss: 0.1557 - accuracy: 0.9049 - val_loss: 1.3706 - val_accuracy: 0.8656\n",
            "Epoch 136/200\n",
            "90/90 [==============================] - ETA: 0s - loss: 0.1557 - accuracy: 0.9109\n",
            "Epoch 136: saving model to training_1/cp.ckpt\n",
            "90/90 [==============================] - 8s 86ms/step - loss: 0.1557 - accuracy: 0.9109 - val_loss: 1.3580 - val_accuracy: 0.8656\n",
            "Epoch 137/200\n",
            "90/90 [==============================] - ETA: 0s - loss: 0.1558 - accuracy: 0.9091\n",
            "Epoch 137: saving model to training_1/cp.ckpt\n",
            "90/90 [==============================] - 8s 86ms/step - loss: 0.1558 - accuracy: 0.9091 - val_loss: 1.4189 - val_accuracy: 0.8656\n",
            "Epoch 138/200\n",
            "90/90 [==============================] - ETA: 0s - loss: 0.1553 - accuracy: 0.9136\n",
            "Epoch 138: saving model to training_1/cp.ckpt\n",
            "90/90 [==============================] - 8s 85ms/step - loss: 0.1553 - accuracy: 0.9136 - val_loss: 1.4041 - val_accuracy: 0.8656\n",
            "Epoch 139/200\n",
            "90/90 [==============================] - ETA: 0s - loss: 0.1556 - accuracy: 0.9111\n",
            "Epoch 139: saving model to training_1/cp.ckpt\n",
            "90/90 [==============================] - 8s 84ms/step - loss: 0.1556 - accuracy: 0.9111 - val_loss: 1.4462 - val_accuracy: 0.8656\n",
            "Epoch 140/200\n",
            "90/90 [==============================] - ETA: 0s - loss: 0.1553 - accuracy: 0.9136\n",
            "Epoch 140: saving model to training_1/cp.ckpt\n",
            "90/90 [==============================] - 8s 87ms/step - loss: 0.1553 - accuracy: 0.9136 - val_loss: 1.4640 - val_accuracy: 0.8656\n",
            "Epoch 141/200\n",
            "90/90 [==============================] - ETA: 0s - loss: 0.1556 - accuracy: 0.9107\n",
            "Epoch 141: saving model to training_1/cp.ckpt\n",
            "90/90 [==============================] - 8s 83ms/step - loss: 0.1556 - accuracy: 0.9107 - val_loss: 1.4765 - val_accuracy: 0.8667\n",
            "Epoch 142/200\n",
            "90/90 [==============================] - ETA: 0s - loss: 0.1557 - accuracy: 0.9136\n",
            "Epoch 142: saving model to training_1/cp.ckpt\n",
            "90/90 [==============================] - 8s 86ms/step - loss: 0.1557 - accuracy: 0.9136 - val_loss: 1.4654 - val_accuracy: 0.8656\n",
            "Epoch 143/200\n",
            "90/90 [==============================] - ETA: 0s - loss: 0.1555 - accuracy: 0.9136\n",
            "Epoch 143: saving model to training_1/cp.ckpt\n",
            "90/90 [==============================] - 8s 84ms/step - loss: 0.1555 - accuracy: 0.9136 - val_loss: 1.4638 - val_accuracy: 0.8656\n",
            "Epoch 144/200\n",
            "90/90 [==============================] - ETA: 0s - loss: 0.1555 - accuracy: 0.9136\n",
            "Epoch 144: saving model to training_1/cp.ckpt\n",
            "90/90 [==============================] - 8s 87ms/step - loss: 0.1555 - accuracy: 0.9136 - val_loss: 1.4856 - val_accuracy: 0.8656\n",
            "Epoch 145/200\n",
            "90/90 [==============================] - ETA: 0s - loss: 0.1554 - accuracy: 0.9109\n",
            "Epoch 145: saving model to training_1/cp.ckpt\n",
            "90/90 [==============================] - 8s 84ms/step - loss: 0.1554 - accuracy: 0.9109 - val_loss: 1.4682 - val_accuracy: 0.8656\n",
            "Epoch 146/200\n",
            "90/90 [==============================] - ETA: 0s - loss: 0.1558 - accuracy: 0.9089\n",
            "Epoch 146: saving model to training_1/cp.ckpt\n",
            "90/90 [==============================] - 8s 84ms/step - loss: 0.1558 - accuracy: 0.9089 - val_loss: 1.4703 - val_accuracy: 0.8656\n",
            "Epoch 147/200\n",
            "90/90 [==============================] - ETA: 0s - loss: 0.1555 - accuracy: 0.9136\n",
            "Epoch 147: saving model to training_1/cp.ckpt\n",
            "90/90 [==============================] - 8s 86ms/step - loss: 0.1555 - accuracy: 0.9136 - val_loss: 1.4785 - val_accuracy: 0.8656\n",
            "Epoch 148/200\n",
            "90/90 [==============================] - ETA: 0s - loss: 0.1554 - accuracy: 0.9136\n",
            "Epoch 148: saving model to training_1/cp.ckpt\n",
            "90/90 [==============================] - 8s 86ms/step - loss: 0.1554 - accuracy: 0.9136 - val_loss: 1.5020 - val_accuracy: 0.8667\n",
            "Epoch 149/200\n",
            "90/90 [==============================] - ETA: 0s - loss: 0.1554 - accuracy: 0.9136\n",
            "Epoch 149: saving model to training_1/cp.ckpt\n",
            "90/90 [==============================] - 8s 84ms/step - loss: 0.1554 - accuracy: 0.9136 - val_loss: 1.4920 - val_accuracy: 0.8667\n",
            "Epoch 150/200\n",
            "90/90 [==============================] - ETA: 0s - loss: 0.1555 - accuracy: 0.9136\n",
            "Epoch 150: saving model to training_1/cp.ckpt\n",
            "90/90 [==============================] - 8s 84ms/step - loss: 0.1555 - accuracy: 0.9136 - val_loss: 1.5176 - val_accuracy: 0.8667\n",
            "Epoch 151/200\n",
            "90/90 [==============================] - ETA: 0s - loss: 0.1555 - accuracy: 0.9136\n",
            "Epoch 151: saving model to training_1/cp.ckpt\n",
            "90/90 [==============================] - 8s 86ms/step - loss: 0.1555 - accuracy: 0.9136 - val_loss: 1.5076 - val_accuracy: 0.8667\n",
            "Epoch 152/200\n",
            "90/90 [==============================] - ETA: 0s - loss: 0.1554 - accuracy: 0.9136\n",
            "Epoch 152: saving model to training_1/cp.ckpt\n",
            "90/90 [==============================] - 8s 85ms/step - loss: 0.1554 - accuracy: 0.9136 - val_loss: 1.5162 - val_accuracy: 0.8667\n",
            "Epoch 153/200\n",
            "90/90 [==============================] - ETA: 0s - loss: 0.1554 - accuracy: 0.9136\n",
            "Epoch 153: saving model to training_1/cp.ckpt\n",
            "90/90 [==============================] - 8s 86ms/step - loss: 0.1554 - accuracy: 0.9136 - val_loss: 1.5214 - val_accuracy: 0.8667\n",
            "Epoch 154/200\n",
            "90/90 [==============================] - ETA: 0s - loss: 0.1555 - accuracy: 0.9111\n",
            "Epoch 154: saving model to training_1/cp.ckpt\n",
            "90/90 [==============================] - 8s 84ms/step - loss: 0.1555 - accuracy: 0.9111 - val_loss: 1.5151 - val_accuracy: 0.8667\n",
            "Epoch 155/200\n",
            "90/90 [==============================] - ETA: 0s - loss: 0.1554 - accuracy: 0.9136\n",
            "Epoch 155: saving model to training_1/cp.ckpt\n",
            "90/90 [==============================] - 7s 83ms/step - loss: 0.1554 - accuracy: 0.9136 - val_loss: 1.5019 - val_accuracy: 0.8667\n",
            "Epoch 156/200\n",
            "90/90 [==============================] - ETA: 0s - loss: 0.1553 - accuracy: 0.9136\n",
            "Epoch 156: saving model to training_1/cp.ckpt\n",
            "90/90 [==============================] - 8s 85ms/step - loss: 0.1553 - accuracy: 0.9136 - val_loss: 1.5413 - val_accuracy: 0.8667\n",
            "Epoch 157/200\n",
            "90/90 [==============================] - ETA: 0s - loss: 0.1557 - accuracy: 0.9136\n",
            "Epoch 157: saving model to training_1/cp.ckpt\n",
            "90/90 [==============================] - 8s 86ms/step - loss: 0.1557 - accuracy: 0.9136 - val_loss: 1.5400 - val_accuracy: 0.8667\n",
            "Epoch 158/200\n",
            "90/90 [==============================] - ETA: 0s - loss: 0.1556 - accuracy: 0.9136\n",
            "Epoch 158: saving model to training_1/cp.ckpt\n",
            "90/90 [==============================] - 8s 88ms/step - loss: 0.1556 - accuracy: 0.9136 - val_loss: 1.5505 - val_accuracy: 0.8667\n",
            "Epoch 159/200\n",
            "90/90 [==============================] - ETA: 0s - loss: 0.1554 - accuracy: 0.9136\n",
            "Epoch 159: saving model to training_1/cp.ckpt\n",
            "90/90 [==============================] - 8s 85ms/step - loss: 0.1554 - accuracy: 0.9136 - val_loss: 1.5540 - val_accuracy: 0.8667\n",
            "Epoch 160/200\n",
            "90/90 [==============================] - ETA: 0s - loss: 0.1555 - accuracy: 0.9093\n",
            "Epoch 160: saving model to training_1/cp.ckpt\n",
            "90/90 [==============================] - 8s 87ms/step - loss: 0.1555 - accuracy: 0.9093 - val_loss: 1.5612 - val_accuracy: 0.8667\n",
            "Epoch 161/200\n",
            "90/90 [==============================] - ETA: 0s - loss: 0.1557 - accuracy: 0.9136\n",
            "Epoch 161: saving model to training_1/cp.ckpt\n",
            "90/90 [==============================] - 8s 84ms/step - loss: 0.1557 - accuracy: 0.9136 - val_loss: 1.5748 - val_accuracy: 0.8667\n",
            "Epoch 162/200\n",
            "90/90 [==============================] - ETA: 0s - loss: 0.1554 - accuracy: 0.9136\n",
            "Epoch 162: saving model to training_1/cp.ckpt\n",
            "90/90 [==============================] - 8s 85ms/step - loss: 0.1554 - accuracy: 0.9136 - val_loss: 1.5752 - val_accuracy: 0.8667\n",
            "Epoch 163/200\n",
            "90/90 [==============================] - ETA: 0s - loss: 0.1553 - accuracy: 0.9136\n",
            "Epoch 163: saving model to training_1/cp.ckpt\n",
            "90/90 [==============================] - 8s 87ms/step - loss: 0.1553 - accuracy: 0.9136 - val_loss: 1.5757 - val_accuracy: 0.8667\n",
            "Epoch 164/200\n",
            "90/90 [==============================] - ETA: 0s - loss: 0.1554 - accuracy: 0.9136\n",
            "Epoch 164: saving model to training_1/cp.ckpt\n",
            "90/90 [==============================] - 8s 85ms/step - loss: 0.1554 - accuracy: 0.9136 - val_loss: 1.5722 - val_accuracy: 0.8667\n",
            "Epoch 165/200\n",
            "90/90 [==============================] - ETA: 0s - loss: 0.1554 - accuracy: 0.9136\n",
            "Epoch 165: saving model to training_1/cp.ckpt\n",
            "90/90 [==============================] - 8s 87ms/step - loss: 0.1554 - accuracy: 0.9136 - val_loss: 1.5784 - val_accuracy: 0.8667\n",
            "Epoch 166/200\n",
            "90/90 [==============================] - ETA: 0s - loss: 0.1554 - accuracy: 0.9136\n",
            "Epoch 166: saving model to training_1/cp.ckpt\n",
            "90/90 [==============================] - 8s 86ms/step - loss: 0.1554 - accuracy: 0.9136 - val_loss: 1.5812 - val_accuracy: 0.8667\n",
            "Epoch 167/200\n",
            "90/90 [==============================] - ETA: 0s - loss: 0.1554 - accuracy: 0.9136\n",
            "Epoch 167: saving model to training_1/cp.ckpt\n",
            "90/90 [==============================] - 8s 86ms/step - loss: 0.1554 - accuracy: 0.9136 - val_loss: 1.5881 - val_accuracy: 0.8667\n",
            "Epoch 168/200\n",
            "90/90 [==============================] - ETA: 0s - loss: 0.1554 - accuracy: 0.9136\n",
            "Epoch 168: saving model to training_1/cp.ckpt\n",
            "90/90 [==============================] - 8s 85ms/step - loss: 0.1554 - accuracy: 0.9136 - val_loss: 1.5920 - val_accuracy: 0.8667\n",
            "Epoch 169/200\n",
            "90/90 [==============================] - ETA: 0s - loss: 0.1554 - accuracy: 0.9136\n",
            "Epoch 169: saving model to training_1/cp.ckpt\n",
            "90/90 [==============================] - 8s 87ms/step - loss: 0.1554 - accuracy: 0.9136 - val_loss: 1.5932 - val_accuracy: 0.8667\n",
            "Epoch 170/200\n",
            "90/90 [==============================] - ETA: 0s - loss: 0.1553 - accuracy: 0.9104\n",
            "Epoch 170: saving model to training_1/cp.ckpt\n",
            "90/90 [==============================] - 8s 87ms/step - loss: 0.1553 - accuracy: 0.9104 - val_loss: 1.5975 - val_accuracy: 0.8667\n",
            "Epoch 171/200\n",
            "90/90 [==============================] - ETA: 0s - loss: 0.1554 - accuracy: 0.9136\n",
            "Epoch 171: saving model to training_1/cp.ckpt\n",
            "90/90 [==============================] - 8s 85ms/step - loss: 0.1554 - accuracy: 0.9136 - val_loss: 1.6012 - val_accuracy: 0.8667\n",
            "Epoch 172/200\n",
            "90/90 [==============================] - ETA: 0s - loss: 0.1553 - accuracy: 0.9136\n",
            "Epoch 172: saving model to training_1/cp.ckpt\n",
            "90/90 [==============================] - 8s 87ms/step - loss: 0.1553 - accuracy: 0.9136 - val_loss: 1.6101 - val_accuracy: 0.8667\n",
            "Epoch 173/200\n",
            "90/90 [==============================] - ETA: 0s - loss: 0.1556 - accuracy: 0.9140\n",
            "Epoch 173: saving model to training_1/cp.ckpt\n",
            "90/90 [==============================] - 8s 87ms/step - loss: 0.1556 - accuracy: 0.9140 - val_loss: 1.6296 - val_accuracy: 0.8678\n",
            "Epoch 174/200\n",
            "90/90 [==============================] - ETA: 0s - loss: 0.1555 - accuracy: 0.9096\n",
            "Epoch 174: saving model to training_1/cp.ckpt\n",
            "90/90 [==============================] - 8s 86ms/step - loss: 0.1555 - accuracy: 0.9096 - val_loss: 1.6002 - val_accuracy: 0.8656\n",
            "Epoch 175/200\n",
            "90/90 [==============================] - ETA: 0s - loss: 0.1555 - accuracy: 0.9136\n",
            "Epoch 175: saving model to training_1/cp.ckpt\n",
            "90/90 [==============================] - 8s 86ms/step - loss: 0.1555 - accuracy: 0.9136 - val_loss: 1.6046 - val_accuracy: 0.8667\n",
            "Epoch 176/200\n",
            "90/90 [==============================] - ETA: 0s - loss: 0.1553 - accuracy: 0.9136\n",
            "Epoch 176: saving model to training_1/cp.ckpt\n",
            "90/90 [==============================] - 8s 86ms/step - loss: 0.1553 - accuracy: 0.9136 - val_loss: 1.6068 - val_accuracy: 0.8667\n",
            "Epoch 177/200\n",
            "90/90 [==============================] - ETA: 0s - loss: 0.1554 - accuracy: 0.9136\n",
            "Epoch 177: saving model to training_1/cp.ckpt\n",
            "90/90 [==============================] - 8s 84ms/step - loss: 0.1554 - accuracy: 0.9136 - val_loss: 1.6255 - val_accuracy: 0.8667\n",
            "Epoch 178/200\n",
            "90/90 [==============================] - ETA: 0s - loss: 0.1555 - accuracy: 0.9136\n",
            "Epoch 178: saving model to training_1/cp.ckpt\n",
            "90/90 [==============================] - 8s 84ms/step - loss: 0.1555 - accuracy: 0.9136 - val_loss: 1.6187 - val_accuracy: 0.8656\n",
            "Epoch 179/200\n",
            "90/90 [==============================] - ETA: 0s - loss: 0.1553 - accuracy: 0.9136\n",
            "Epoch 179: saving model to training_1/cp.ckpt\n",
            "90/90 [==============================] - 8s 85ms/step - loss: 0.1553 - accuracy: 0.9136 - val_loss: 1.6341 - val_accuracy: 0.8667\n",
            "Epoch 180/200\n",
            "90/90 [==============================] - ETA: 0s - loss: 0.1555 - accuracy: 0.9111\n",
            "Epoch 180: saving model to training_1/cp.ckpt\n",
            "90/90 [==============================] - 8s 86ms/step - loss: 0.1555 - accuracy: 0.9111 - val_loss: 1.6084 - val_accuracy: 0.8656\n",
            "Epoch 181/200\n",
            "90/90 [==============================] - ETA: 0s - loss: 0.1556 - accuracy: 0.9136\n",
            "Epoch 181: saving model to training_1/cp.ckpt\n",
            "90/90 [==============================] - 8s 87ms/step - loss: 0.1556 - accuracy: 0.9136 - val_loss: 1.6556 - val_accuracy: 0.8667\n",
            "Epoch 182/200\n",
            "90/90 [==============================] - ETA: 0s - loss: 0.1553 - accuracy: 0.9136\n",
            "Epoch 182: saving model to training_1/cp.ckpt\n",
            "90/90 [==============================] - 8s 86ms/step - loss: 0.1553 - accuracy: 0.9136 - val_loss: 1.6332 - val_accuracy: 0.8667\n",
            "Epoch 183/200\n",
            "90/90 [==============================] - ETA: 0s - loss: 0.1557 - accuracy: 0.9136\n",
            "Epoch 183: saving model to training_1/cp.ckpt\n",
            "90/90 [==============================] - 8s 85ms/step - loss: 0.1557 - accuracy: 0.9136 - val_loss: 1.6543 - val_accuracy: 0.8667\n",
            "Epoch 184/200\n",
            "90/90 [==============================] - ETA: 0s - loss: 0.1556 - accuracy: 0.9113\n",
            "Epoch 184: saving model to training_1/cp.ckpt\n",
            "90/90 [==============================] - 8s 87ms/step - loss: 0.1556 - accuracy: 0.9113 - val_loss: 1.6245 - val_accuracy: 0.8656\n",
            "Epoch 185/200\n",
            "90/90 [==============================] - ETA: 0s - loss: 0.1557 - accuracy: 0.9116\n",
            "Epoch 185: saving model to training_1/cp.ckpt\n",
            "90/90 [==============================] - 8s 86ms/step - loss: 0.1557 - accuracy: 0.9116 - val_loss: 1.6528 - val_accuracy: 0.8644\n",
            "Epoch 186/200\n",
            "90/90 [==============================] - ETA: 0s - loss: 0.1555 - accuracy: 0.9136\n",
            "Epoch 186: saving model to training_1/cp.ckpt\n",
            "90/90 [==============================] - 7s 83ms/step - loss: 0.1555 - accuracy: 0.9136 - val_loss: 1.6304 - val_accuracy: 0.8667\n",
            "Epoch 187/200\n",
            "90/90 [==============================] - ETA: 0s - loss: 0.1553 - accuracy: 0.9136\n",
            "Epoch 187: saving model to training_1/cp.ckpt\n",
            "90/90 [==============================] - 8s 85ms/step - loss: 0.1553 - accuracy: 0.9136 - val_loss: 1.6280 - val_accuracy: 0.8667\n",
            "Epoch 188/200\n",
            "90/90 [==============================] - ETA: 0s - loss: 0.1554 - accuracy: 0.9136\n",
            "Epoch 188: saving model to training_1/cp.ckpt\n",
            "90/90 [==============================] - 8s 86ms/step - loss: 0.1554 - accuracy: 0.9136 - val_loss: 1.6267 - val_accuracy: 0.8667\n",
            "Epoch 189/200\n",
            "90/90 [==============================] - ETA: 0s - loss: 0.1554 - accuracy: 0.9136\n",
            "Epoch 189: saving model to training_1/cp.ckpt\n",
            "90/90 [==============================] - 8s 85ms/step - loss: 0.1554 - accuracy: 0.9136 - val_loss: 1.6183 - val_accuracy: 0.8656\n",
            "Epoch 190/200\n",
            "90/90 [==============================] - ETA: 0s - loss: 0.1555 - accuracy: 0.9136\n",
            "Epoch 190: saving model to training_1/cp.ckpt\n",
            "90/90 [==============================] - 8s 86ms/step - loss: 0.1555 - accuracy: 0.9136 - val_loss: 1.6488 - val_accuracy: 0.8667\n",
            "Epoch 191/200\n",
            "90/90 [==============================] - ETA: 0s - loss: 0.1555 - accuracy: 0.9136\n",
            "Epoch 191: saving model to training_1/cp.ckpt\n",
            "90/90 [==============================] - 8s 86ms/step - loss: 0.1555 - accuracy: 0.9136 - val_loss: 1.6592 - val_accuracy: 0.8667\n",
            "Epoch 192/200\n",
            "90/90 [==============================] - ETA: 0s - loss: 0.1554 - accuracy: 0.9118\n",
            "Epoch 192: saving model to training_1/cp.ckpt\n",
            "90/90 [==============================] - 8s 84ms/step - loss: 0.1554 - accuracy: 0.9118 - val_loss: 1.6557 - val_accuracy: 0.8667\n",
            "Epoch 193/200\n",
            "90/90 [==============================] - ETA: 0s - loss: 0.1557 - accuracy: 0.9100\n",
            "Epoch 193: saving model to training_1/cp.ckpt\n",
            "90/90 [==============================] - 8s 86ms/step - loss: 0.1557 - accuracy: 0.9100 - val_loss: 1.6706 - val_accuracy: 0.8667\n",
            "Epoch 194/200\n",
            "90/90 [==============================] - ETA: 0s - loss: 0.1554 - accuracy: 0.9136\n",
            "Epoch 194: saving model to training_1/cp.ckpt\n",
            "90/90 [==============================] - 8s 87ms/step - loss: 0.1554 - accuracy: 0.9136 - val_loss: 1.6699 - val_accuracy: 0.8667\n",
            "Epoch 195/200\n",
            "90/90 [==============================] - ETA: 0s - loss: 0.1554 - accuracy: 0.9136\n",
            "Epoch 195: saving model to training_1/cp.ckpt\n",
            "90/90 [==============================] - 8s 86ms/step - loss: 0.1554 - accuracy: 0.9136 - val_loss: 1.6662 - val_accuracy: 0.8667\n",
            "Epoch 196/200\n",
            "90/90 [==============================] - ETA: 0s - loss: 0.1553 - accuracy: 0.9136\n",
            "Epoch 196: saving model to training_1/cp.ckpt\n",
            "90/90 [==============================] - 8s 84ms/step - loss: 0.1553 - accuracy: 0.9136 - val_loss: 1.6707 - val_accuracy: 0.8667\n",
            "Epoch 197/200\n",
            "90/90 [==============================] - ETA: 0s - loss: 0.1554 - accuracy: 0.9102\n",
            "Epoch 197: saving model to training_1/cp.ckpt\n",
            "90/90 [==============================] - 8s 86ms/step - loss: 0.1554 - accuracy: 0.9102 - val_loss: 1.6629 - val_accuracy: 0.8667\n",
            "Epoch 198/200\n",
            "90/90 [==============================] - ETA: 0s - loss: 0.1555 - accuracy: 0.9136\n",
            "Epoch 198: saving model to training_1/cp.ckpt\n",
            "90/90 [==============================] - 8s 87ms/step - loss: 0.1555 - accuracy: 0.9136 - val_loss: 1.6838 - val_accuracy: 0.8678\n",
            "Epoch 199/200\n",
            "90/90 [==============================] - ETA: 0s - loss: 0.1553 - accuracy: 0.9136\n",
            "Epoch 199: saving model to training_1/cp.ckpt\n",
            "90/90 [==============================] - 8s 87ms/step - loss: 0.1553 - accuracy: 0.9136 - val_loss: 1.6427 - val_accuracy: 0.8644\n",
            "Epoch 200/200\n",
            "90/90 [==============================] - ETA: 0s - loss: 0.1553 - accuracy: 0.9136\n",
            "Epoch 200: saving model to training_1/cp.ckpt\n",
            "90/90 [==============================] - 8s 85ms/step - loss: 0.1553 - accuracy: 0.9136 - val_loss: 1.6868 - val_accuracy: 0.8667\n"
          ]
        }
      ],
      "source": [
        "# Обучаем модель\n",
        "history = model.fit(new_X[0:4500], dummy_y[0:4500], batch_size=BATCH_SIZE,validation_data=(new_X[4500:5400], dummy_y[4500:5400]), epochs=EPOCHS,callbacks=[cp_callback])\n"
      ]
    },
    {
      "cell_type": "code",
      "execution_count": null,
      "metadata": {
        "id": "LYLrt1bFDcRJ",
        "colab": {
          "base_uri": "https://localhost:8080/",
          "height": 279
        },
        "outputId": "75e816af-04b3-4be1-d30c-6a99bb75e7de"
      },
      "outputs": [
        {
          "output_type": "display_data",
          "data": {
            "text/plain": [
              "<Figure size 432x288 with 1 Axes>"
            ],
            "image/png": "[encoded data removed]"
          },
          "metadata": {
            "needs_background": "light"
          }
        }
      ],
      "source": [
        "# Создаем график процесса обучения\n",
        "import matplotlib.pyplot as plt\n",
        "history_dict = history.history\n",
        "acc_values = history_dict['accuracy']\n",
        "val_acc_values = history_dict['val_accuracy']\n",
        "epochs = range(1, len(acc_values) + 1)\n",
        "plt.plot(epochs, acc_values, 'r', label='Training acc')\n",
        "plt.plot(epochs, val_acc_values, 'b', label='Validation acc')\n",
        "plt.xlabel('Epochs')\n",
        "plt.ylabel('Accuracy')\n",
        "plt.legend()\n",
        "plt.show()"
      ]
    },
    {
      "cell_type": "code",
      "source": [
        "# вычисляем f1 метрику для тестовой выборки\n",
        "from sklearn.metrics import f1_score\n",
        "pred = model.predict(new_X[5400:5934])\n",
        "trues = dummy_y[5400:5934]\n",
        "print('f1 score for test sample')\n",
        "f1_score(np.argmax(trues, axis=1), np.argmax(pred, axis=1), average=None)"
      ],
      "metadata": {
        "colab": {
          "base_uri": "https://localhost:8080/"
        },
        "id": "BxuT-rfaw9Fi",
        "outputId": "56cc5927-755c-48f7-dc27-13c8507246d6"
      },
      "execution_count": null,
      "outputs": [
        {
          "output_type": "stream",
          "name": "stdout",
          "text": [
            "f1 score for test sample\n"
          ]
        },
        {
          "output_type": "execute_result",
          "data": {
            "text/plain": [
              "array([0.86153846, 0.80995475, 0.85382831])"
            ]
          },
          "metadata": {},
          "execution_count": 67
        }
      ]
    },
    {
      "cell_type": "markdown",
      "source": [
        "**Использование предобученнорй сети**"
      ],
      "metadata": {
        "id": "knTN0mr7aglT"
      }
    },
    {
      "cell_type": "code",
      "source": [
        "# model.save('/contentmy_model.h5')\n"
      ],
      "metadata": {
        "id": "1fZdLVlAc5bm"
      },
      "execution_count": null,
      "outputs": []
    },
    {
      "cell_type": "code",
      "source": [
        "# загуржаем готовую сеть\n",
        "new_model = tf.keras.models.load_model('my_model.h5')\n"
      ],
      "metadata": {
        "id": "QmXJ1yBIafaU"
      },
      "execution_count": null,
      "outputs": []
    },
    {
      "cell_type": "code",
      "source": [
        "#f1 метрика на тестовой выборке\n",
        "from sklearn.metrics import f1_score\n",
        "pred = new_model.predict(new_X[4500:5934])\n",
        "trues = dummy_y[4500:5934]\n",
        "f1_score(np.argmax(trues, axis=1), np.argmax(pred, axis=1), average=None)"
      ],
      "metadata": {
        "colab": {
          "base_uri": "https://localhost:8080/"
        },
        "id": "SPl8tXutdnNf",
        "outputId": "8ea7af1c-fb45-4bf6-fc6c-185236e1fef2"
      },
      "execution_count": null,
      "outputs": [
        {
          "output_type": "execute_result",
          "data": {
            "text/plain": [
              "array([0.88709677, 0.82632541, 0.86655113])"
            ]
          },
          "metadata": {},
          "execution_count": 54
        }
      ]
    },
    {
      "cell_type": "code",
      "source": [
        "#accuracy метрика на обучающей выборке\n",
        "loss, acc = new_model.evaluate(new_X[0:4500], dummy_y[0:4500], verbose=2)\n",
        "print(\"Restored model, learning accuracy: {:5.2f}%\".format(100 * acc))\n"
      ],
      "metadata": {
        "colab": {
          "base_uri": "https://localhost:8080/"
        },
        "id": "7ixVVsc8dvSZ",
        "outputId": "ddca1ef5-6ea9-46c7-c3d6-40c5bf7e8f7b"
      },
      "execution_count": null,
      "outputs": [
        {
          "output_type": "stream",
          "name": "stdout",
          "text": [
            "141/141 - 2s - loss: 0.1552 - accuracy: 0.9136 - 2s/epoch - 17ms/step\n",
            "Restored model, learning accuracy: 91.36%\n"
          ]
        }
      ]
    },
    {
      "cell_type": "code",
      "source": [
        "#accuracy метрика на тестовой выборке\n",
        "loss, acc = new_model.evaluate(new_X[5400:5934], dummy_y[5400:5934], verbose=2)\n",
        "print(\"Restored model, test accuracy: {:5.2f}%\".format(100 * acc))\n"
      ],
      "metadata": {
        "colab": {
          "base_uri": "https://localhost:8080/"
        },
        "id": "FJZh-OOeeOjR",
        "outputId": "637d3ef3-3cef-4283-ed27-85925fa0898f"
      },
      "execution_count": null,
      "outputs": [
        {
          "output_type": "stream",
          "name": "stdout",
          "text": [
            "17/17 - 1s - loss: 2.0152 - accuracy: 0.8371 - 746ms/epoch - 44ms/step\n",
            "Restored model, test accuracy: 83.71%\n"
          ]
        }
      ]
    },
    {
      "cell_type": "code",
      "source": [
        "#f1 метрика на валидационной выборке\n",
        "loss, acc = new_model.evaluate(new_X[4500:5934], dummy_y[4500:5934], verbose=2)\n",
        "print(\"Restored model, validation accuracy: {:5.2f}%\".format(100 * acc))"
      ],
      "metadata": {
        "colab": {
          "base_uri": "https://localhost:8080/"
        },
        "id": "xF1rXXz4ee4w",
        "outputId": "1b98fbd0-6f78-43c7-900f-2debc49e8768"
      },
      "execution_count": null,
      "outputs": [
        {
          "output_type": "stream",
          "name": "stdout",
          "text": [
            "45/45 - 1s - loss: 1.8091 - accuracy: 0.8556 - 801ms/epoch - 18ms/step\n",
            "Restored model, validation accuracy: 85.56%\n"
          ]
        }
      ]
    }
  ],
  "metadata": {
    "colab": {
      "name": "vg16.ipynb",
      "provenance": [],
      "collapsed_sections": []
    },
    "kernelspec": {
      "display_name": "Python 3",
      "name": "python3"
    },
    "language_info": {
      "name": "python"
    },
    "accelerator": "GPU"
  },
  "nbformat": 4,
  "nbformat_minor": 0
}